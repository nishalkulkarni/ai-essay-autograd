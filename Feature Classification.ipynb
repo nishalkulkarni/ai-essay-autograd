{
 "cells": [
  {
   "cell_type": "markdown",
   "id": "4ce8c3a0",
   "metadata": {},
   "source": [
    "# Classification, Prediction & Comparison"
   ]
  },
  {
   "cell_type": "code",
   "execution_count": 23,
   "id": "15a52152",
   "metadata": {},
   "outputs": [],
   "source": [
    "import nltk, re\n",
    "import pandas as pd\n",
    "import numpy as np\n",
    "import matplotlib.pyplot as plt\n",
    "import seaborn as sns\n",
    "import xgboost as xgb\n",
    "from xgboost import XGBClassifier\n",
    "import sklearn.metrics\n",
    "from sklearn.metrics import make_scorer\n",
    "from sklearn.metrics import accuracy_score\n",
    "from sklearn.metrics import confusion_matrix\n",
    "from sklearn.metrics import classification_report\n",
    "from sklearn.ensemble import RandomForestClassifier\n",
    "from sklearn.model_selection import train_test_split\n",
    "from sklearn.model_selection import GridSearchCV\n",
    "from sklearn.model_selection import RandomizedSearchCV\n",
    "from sklearn.preprocessing import StandardScaler\n",
    "from sklearn.svm import SVC\n",
    "\n",
    "import warnings\n",
    "warnings.filterwarnings('ignore')"
   ]
  },
  {
   "cell_type": "code",
   "execution_count": 2,
   "id": "66ba88a0",
   "metadata": {},
   "outputs": [
    {
     "data": {
      "text/html": [
       "<div>\n",
       "<style scoped>\n",
       "    .dataframe tbody tr th:only-of-type {\n",
       "        vertical-align: middle;\n",
       "    }\n",
       "\n",
       "    .dataframe tbody tr th {\n",
       "        vertical-align: top;\n",
       "    }\n",
       "\n",
       "    .dataframe thead th {\n",
       "        text-align: right;\n",
       "    }\n",
       "</style>\n",
       "<table border=\"1\" class=\"dataframe\">\n",
       "  <thead>\n",
       "    <tr style=\"text-align: right;\">\n",
       "      <th></th>\n",
       "      <th>essay_id</th>\n",
       "      <th>essay</th>\n",
       "      <th>domain1_score</th>\n",
       "      <th>word_count</th>\n",
       "      <th>sent_count</th>\n",
       "      <th>avg_word_len</th>\n",
       "      <th>lemma_count</th>\n",
       "      <th>spell_err_count</th>\n",
       "      <th>noun_count</th>\n",
       "      <th>adj_count</th>\n",
       "      <th>verb_count</th>\n",
       "      <th>adv_count</th>\n",
       "      <th>neg_score</th>\n",
       "      <th>pos_score</th>\n",
       "      <th>neu_score</th>\n",
       "      <th>cosine_similarity</th>\n",
       "    </tr>\n",
       "  </thead>\n",
       "  <tbody>\n",
       "    <tr>\n",
       "      <th>0</th>\n",
       "      <td>20716</td>\n",
       "      <td>A long time ago when I was in third grade I h...</td>\n",
       "      <td>34.0</td>\n",
       "      <td>708</td>\n",
       "      <td>39</td>\n",
       "      <td>3.669492</td>\n",
       "      <td>233</td>\n",
       "      <td>0.105932</td>\n",
       "      <td>0.231638</td>\n",
       "      <td>0.069209</td>\n",
       "      <td>0.225989</td>\n",
       "      <td>0.036723</td>\n",
       "      <td>0.057</td>\n",
       "      <td>0.125</td>\n",
       "      <td>0.818</td>\n",
       "      <td>0.067189</td>\n",
       "    </tr>\n",
       "    <tr>\n",
       "      <th>1</th>\n",
       "      <td>20717</td>\n",
       "      <td>Softball has to be one of the single most gre...</td>\n",
       "      <td>46.0</td>\n",
       "      <td>785</td>\n",
       "      <td>30</td>\n",
       "      <td>3.945223</td>\n",
       "      <td>280</td>\n",
       "      <td>0.014013</td>\n",
       "      <td>0.188535</td>\n",
       "      <td>0.066242</td>\n",
       "      <td>0.207643</td>\n",
       "      <td>0.090446</td>\n",
       "      <td>0.057</td>\n",
       "      <td>0.224</td>\n",
       "      <td>0.719</td>\n",
       "      <td>0.105492</td>\n",
       "    </tr>\n",
       "    <tr>\n",
       "      <th>2</th>\n",
       "      <td>20718</td>\n",
       "      <td>Some people like making people laugh, I love ...</td>\n",
       "      <td>40.0</td>\n",
       "      <td>861</td>\n",
       "      <td>39</td>\n",
       "      <td>3.979094</td>\n",
       "      <td>291</td>\n",
       "      <td>0.011614</td>\n",
       "      <td>0.186992</td>\n",
       "      <td>0.066202</td>\n",
       "      <td>0.202091</td>\n",
       "      <td>0.072009</td>\n",
       "      <td>0.086</td>\n",
       "      <td>0.184</td>\n",
       "      <td>0.730</td>\n",
       "      <td>0.084715</td>\n",
       "    </tr>\n",
       "    <tr>\n",
       "      <th>3</th>\n",
       "      <td>20719</td>\n",
       "      <td>\"LAUGHTER\"  @CAPS1 I hang out with my friends...</td>\n",
       "      <td>30.0</td>\n",
       "      <td>713</td>\n",
       "      <td>30</td>\n",
       "      <td>3.688640</td>\n",
       "      <td>221</td>\n",
       "      <td>0.021038</td>\n",
       "      <td>0.192146</td>\n",
       "      <td>0.044881</td>\n",
       "      <td>0.217391</td>\n",
       "      <td>0.088359</td>\n",
       "      <td>0.051</td>\n",
       "      <td>0.222</td>\n",
       "      <td>0.727</td>\n",
       "      <td>0.088823</td>\n",
       "    </tr>\n",
       "    <tr>\n",
       "      <th>4</th>\n",
       "      <td>20721</td>\n",
       "      <td>Well ima tell a story about the time i got @CA...</td>\n",
       "      <td>26.0</td>\n",
       "      <td>647</td>\n",
       "      <td>26</td>\n",
       "      <td>3.452859</td>\n",
       "      <td>182</td>\n",
       "      <td>0.108192</td>\n",
       "      <td>0.224111</td>\n",
       "      <td>0.066461</td>\n",
       "      <td>0.276662</td>\n",
       "      <td>0.111283</td>\n",
       "      <td>0.051</td>\n",
       "      <td>0.200</td>\n",
       "      <td>0.748</td>\n",
       "      <td>0.136575</td>\n",
       "    </tr>\n",
       "    <tr>\n",
       "      <th>...</th>\n",
       "      <td>...</td>\n",
       "      <td>...</td>\n",
       "      <td>...</td>\n",
       "      <td>...</td>\n",
       "      <td>...</td>\n",
       "      <td>...</td>\n",
       "      <td>...</td>\n",
       "      <td>...</td>\n",
       "      <td>...</td>\n",
       "      <td>...</td>\n",
       "      <td>...</td>\n",
       "      <td>...</td>\n",
       "      <td>...</td>\n",
       "      <td>...</td>\n",
       "      <td>...</td>\n",
       "      <td>...</td>\n",
       "    </tr>\n",
       "    <tr>\n",
       "      <th>718</th>\n",
       "      <td>21626</td>\n",
       "      <td>In most stories mothers and daughters are eit...</td>\n",
       "      <td>35.0</td>\n",
       "      <td>863</td>\n",
       "      <td>27</td>\n",
       "      <td>3.997683</td>\n",
       "      <td>309</td>\n",
       "      <td>0.064890</td>\n",
       "      <td>0.208575</td>\n",
       "      <td>0.055620</td>\n",
       "      <td>0.198146</td>\n",
       "      <td>0.082271</td>\n",
       "      <td>0.076</td>\n",
       "      <td>0.185</td>\n",
       "      <td>0.739</td>\n",
       "      <td>0.067341</td>\n",
       "    </tr>\n",
       "    <tr>\n",
       "      <th>719</th>\n",
       "      <td>21628</td>\n",
       "      <td>I never understood the meaning laughter is th...</td>\n",
       "      <td>32.0</td>\n",
       "      <td>559</td>\n",
       "      <td>35</td>\n",
       "      <td>3.844365</td>\n",
       "      <td>197</td>\n",
       "      <td>0.066190</td>\n",
       "      <td>0.241503</td>\n",
       "      <td>0.071556</td>\n",
       "      <td>0.184258</td>\n",
       "      <td>0.098390</td>\n",
       "      <td>0.034</td>\n",
       "      <td>0.211</td>\n",
       "      <td>0.755</td>\n",
       "      <td>0.125316</td>\n",
       "    </tr>\n",
       "    <tr>\n",
       "      <th>720</th>\n",
       "      <td>21629</td>\n",
       "      <td>When you laugh, is @CAPS5 out of habit, or is ...</td>\n",
       "      <td>40.0</td>\n",
       "      <td>835</td>\n",
       "      <td>41</td>\n",
       "      <td>4.294611</td>\n",
       "      <td>334</td>\n",
       "      <td>0.076647</td>\n",
       "      <td>0.241916</td>\n",
       "      <td>0.049102</td>\n",
       "      <td>0.204790</td>\n",
       "      <td>0.071856</td>\n",
       "      <td>0.060</td>\n",
       "      <td>0.173</td>\n",
       "      <td>0.767</td>\n",
       "      <td>0.097131</td>\n",
       "    </tr>\n",
       "    <tr>\n",
       "      <th>721</th>\n",
       "      <td>21630</td>\n",
       "      <td>Trippin' on fen...</td>\n",
       "      <td>40.0</td>\n",
       "      <td>576</td>\n",
       "      <td>39</td>\n",
       "      <td>4.109375</td>\n",
       "      <td>232</td>\n",
       "      <td>0.039931</td>\n",
       "      <td>0.199653</td>\n",
       "      <td>0.069444</td>\n",
       "      <td>0.187500</td>\n",
       "      <td>0.092014</td>\n",
       "      <td>0.103</td>\n",
       "      <td>0.167</td>\n",
       "      <td>0.731</td>\n",
       "      <td>0.072300</td>\n",
       "    </tr>\n",
       "    <tr>\n",
       "      <th>722</th>\n",
       "      <td>21633</td>\n",
       "      <td>Many people believe that laughter can improve...</td>\n",
       "      <td>40.0</td>\n",
       "      <td>475</td>\n",
       "      <td>29</td>\n",
       "      <td>4.181053</td>\n",
       "      <td>213</td>\n",
       "      <td>0.025263</td>\n",
       "      <td>0.202105</td>\n",
       "      <td>0.090526</td>\n",
       "      <td>0.218947</td>\n",
       "      <td>0.073684</td>\n",
       "      <td>0.057</td>\n",
       "      <td>0.253</td>\n",
       "      <td>0.691</td>\n",
       "      <td>0.089798</td>\n",
       "    </tr>\n",
       "  </tbody>\n",
       "</table>\n",
       "<p>723 rows × 16 columns</p>\n",
       "</div>"
      ],
      "text/plain": [
       "     essay_id                                              essay  \\\n",
       "0       20716   A long time ago when I was in third grade I h...   \n",
       "1       20717   Softball has to be one of the single most gre...   \n",
       "2       20718   Some people like making people laugh, I love ...   \n",
       "3       20719   \"LAUGHTER\"  @CAPS1 I hang out with my friends...   \n",
       "4       20721  Well ima tell a story about the time i got @CA...   \n",
       "..        ...                                                ...   \n",
       "718     21626   In most stories mothers and daughters are eit...   \n",
       "719     21628   I never understood the meaning laughter is th...   \n",
       "720     21629  When you laugh, is @CAPS5 out of habit, or is ...   \n",
       "721     21630                                 Trippin' on fen...   \n",
       "722     21633   Many people believe that laughter can improve...   \n",
       "\n",
       "     domain1_score  word_count  sent_count  avg_word_len  lemma_count  \\\n",
       "0             34.0         708          39      3.669492          233   \n",
       "1             46.0         785          30      3.945223          280   \n",
       "2             40.0         861          39      3.979094          291   \n",
       "3             30.0         713          30      3.688640          221   \n",
       "4             26.0         647          26      3.452859          182   \n",
       "..             ...         ...         ...           ...          ...   \n",
       "718           35.0         863          27      3.997683          309   \n",
       "719           32.0         559          35      3.844365          197   \n",
       "720           40.0         835          41      4.294611          334   \n",
       "721           40.0         576          39      4.109375          232   \n",
       "722           40.0         475          29      4.181053          213   \n",
       "\n",
       "     spell_err_count  noun_count  adj_count  verb_count  adv_count  neg_score  \\\n",
       "0           0.105932    0.231638   0.069209    0.225989   0.036723      0.057   \n",
       "1           0.014013    0.188535   0.066242    0.207643   0.090446      0.057   \n",
       "2           0.011614    0.186992   0.066202    0.202091   0.072009      0.086   \n",
       "3           0.021038    0.192146   0.044881    0.217391   0.088359      0.051   \n",
       "4           0.108192    0.224111   0.066461    0.276662   0.111283      0.051   \n",
       "..               ...         ...        ...         ...        ...        ...   \n",
       "718         0.064890    0.208575   0.055620    0.198146   0.082271      0.076   \n",
       "719         0.066190    0.241503   0.071556    0.184258   0.098390      0.034   \n",
       "720         0.076647    0.241916   0.049102    0.204790   0.071856      0.060   \n",
       "721         0.039931    0.199653   0.069444    0.187500   0.092014      0.103   \n",
       "722         0.025263    0.202105   0.090526    0.218947   0.073684      0.057   \n",
       "\n",
       "     pos_score  neu_score  cosine_similarity  \n",
       "0        0.125      0.818           0.067189  \n",
       "1        0.224      0.719           0.105492  \n",
       "2        0.184      0.730           0.084715  \n",
       "3        0.222      0.727           0.088823  \n",
       "4        0.200      0.748           0.136575  \n",
       "..         ...        ...                ...  \n",
       "718      0.185      0.739           0.067341  \n",
       "719      0.211      0.755           0.125316  \n",
       "720      0.173      0.767           0.097131  \n",
       "721      0.167      0.731           0.072300  \n",
       "722      0.253      0.691           0.089798  \n",
       "\n",
       "[723 rows x 16 columns]"
      ]
     },
     "execution_count": 2,
     "metadata": {},
     "output_type": "execute_result"
    }
   ],
   "source": [
    "data = pd.read_csv('features/features_set_8.csv')\n",
    "data.dropna(inplace=True)\n",
    "data"
   ]
  },
  {
   "cell_type": "code",
   "execution_count": 3,
   "id": "98898f29",
   "metadata": {},
   "outputs": [],
   "source": [
    "X=data.iloc[:,3:]\n",
    "y=data.iloc[:,2]"
   ]
  },
  {
   "cell_type": "code",
   "execution_count": 4,
   "id": "52792405",
   "metadata": {},
   "outputs": [],
   "source": [
    "X_train, X_test , y_train, y_test = train_test_split(X ,y, test_size=0.2 , random_state=0)"
   ]
  },
  {
   "cell_type": "markdown",
   "id": "69c566d0",
   "metadata": {},
   "source": [
    "## Random Forest Classifier\n",
    "\n",
    "### What is Random Forest?\n",
    "Random Forest is a powerful and versatile supervised machine learning algorithm that grows and combines multiple decision trees to create a “forest”.  A decision tree is another type of algorithm used to classify data. In very simple terms, it is like a flowchart that draws a clear pathway to a decision or outcome; it starts at a single point and then branches off into two or more directions, with each branch of the decision tree offering different possible outcomes.\n",
    "\n",
    "### How does it work?\n",
    "Random Forest grows multiple decision trees which are merged together for a more accurate prediction.\n",
    "\n",
    "The logic behind the Random Forest model is that multiple uncorrelated models (the individual decision trees) perform much better as a group than they do alone. When using Random Forest for classification, each tree gives a classification or a “vote.” The forest chooses the classification with the majority of the “votes.” When using Random Forest for regression, the forest picks the average of the outputs of all trees.\n",
    "\n",
    "### Advantages\n",
    "1. Very easy to use.\n",
    "2. Random Forest is much more efficient than a single Decision Tree while performing analysis on a large database.\n",
    "3. Random forests have a very good accuracy.\n",
    "4. They are versatile (can be used for regression or classification)."
   ]
  },
  {
   "cell_type": "code",
   "execution_count": 5,
   "id": "1fcab3bf",
   "metadata": {},
   "outputs": [],
   "source": [
    "rf = RandomForestClassifier(class_weight='balanced_subsample')\n",
    "rf_params = {'n_estimators':list(range(20,200,10)),\n",
    "                'max_depth':list(range(2,14,1))}"
   ]
  },
  {
   "cell_type": "code",
   "execution_count": 6,
   "id": "dd6b6e9c",
   "metadata": {},
   "outputs": [],
   "source": [
    "scorer = sklearn.metrics.make_scorer(sklearn.metrics.f1_score, average = 'macro')\n",
    "rf_random=GridSearchCV(estimator = rf, param_grid  = rf_params, cv = 5, verbose=2,  n_jobs = 2, scoring=scorer)"
   ]
  },
  {
   "cell_type": "code",
   "execution_count": 7,
   "id": "af108920",
   "metadata": {},
   "outputs": [
    {
     "name": "stdout",
     "output_type": "stream",
     "text": [
      "Fitting 5 folds for each of 216 candidates, totalling 1080 fits\n"
     ]
    },
    {
     "data": {
      "text/plain": [
       "GridSearchCV(cv=5,\n",
       "             estimator=RandomForestClassifier(class_weight='balanced_subsample'),\n",
       "             n_jobs=2,\n",
       "             param_grid={'max_depth': [2, 3, 4, 5, 6, 7, 8, 9, 10, 11, 12, 13],\n",
       "                         'n_estimators': [20, 30, 40, 50, 60, 70, 80, 90, 100,\n",
       "                                          110, 120, 130, 140, 150, 160, 170,\n",
       "                                          180, 190]},\n",
       "             scoring=make_scorer(f1_score, average=macro), verbose=2)"
      ]
     },
     "execution_count": 7,
     "metadata": {},
     "output_type": "execute_result"
    }
   ],
   "source": [
    "rf_random.fit(X_train, y_train)"
   ]
  },
  {
   "cell_type": "code",
   "execution_count": 8,
   "id": "1529f797",
   "metadata": {},
   "outputs": [
    {
     "data": {
      "text/plain": [
       "RandomForestClassifier(class_weight='balanced_subsample', max_depth=10,\n",
       "                       n_estimators=120, random_state=0)"
      ]
     },
     "execution_count": 8,
     "metadata": {},
     "output_type": "execute_result"
    }
   ],
   "source": [
    "rf_final = RandomForestClassifier(random_state=0, n_estimators=rf_random.best_params_['n_estimators'], max_depth=rf_random.best_params_['max_depth'],class_weight='balanced_subsample')\n",
    "rf_final.fit(X_train, y_train)"
   ]
  },
  {
   "cell_type": "code",
   "execution_count": 9,
   "id": "76399166",
   "metadata": {},
   "outputs": [],
   "source": [
    "X_pred = rf_final.predict(X_test)"
   ]
  },
  {
   "cell_type": "code",
   "execution_count": 10,
   "id": "fe9a7087",
   "metadata": {},
   "outputs": [
    {
     "name": "stdout",
     "output_type": "stream",
     "text": [
      "              precision    recall  f1-score   support\n",
      "\n",
      "         0.0      0.000     0.000     0.000         0\n",
      "         1.0      0.821     0.716     0.765       141\n",
      "         2.0      0.642     0.705     0.672       122\n",
      "         3.0      0.741     0.723     0.732        83\n",
      "\n",
      "    accuracy                          0.714       346\n",
      "   macro avg      0.551     0.536     0.542       346\n",
      "weighted avg      0.739     0.714     0.724       346\n",
      "\n"
     ]
    }
   ],
   "source": [
    "report = classification_report(X_pred,y_test,digits=3)\n",
    "print(report)"
   ]
  },
  {
   "cell_type": "code",
   "execution_count": 11,
   "id": "8bf0da66",
   "metadata": {},
   "outputs": [
    {
     "data": {
      "text/plain": [
       "<AxesSubplot:>"
      ]
     },
     "execution_count": 11,
     "metadata": {},
     "output_type": "execute_result"
    },
    {
     "data": {
      "image/png": "[encoded data removed]",
      "text/plain": [
       "<Figure size 432x288 with 2 Axes>"
      ]
     },
     "metadata": {
      "needs_background": "light"
     },
     "output_type": "display_data"
    }
   ],
   "source": [
    "cm = confusion_matrix(y_test, X_pred)\n",
    "sns.heatmap(cm, annot=True)"
   ]
  },
  {
   "cell_type": "code",
   "execution_count": 12,
   "id": "41e0a872",
   "metadata": {},
   "outputs": [
    {
     "name": "stdout",
     "output_type": "stream",
     "text": [
      "0.7138728323699421\n"
     ]
    }
   ],
   "source": [
    "print(accuracy_score(y_test, X_pred))"
   ]
  },
  {
   "cell_type": "markdown",
   "id": "d3fa7626",
   "metadata": {},
   "source": [
    "## XGBoost Classifier"
   ]
  },
  {
   "cell_type": "markdown",
   "id": "edb67926",
   "metadata": {},
   "source": [
    "### What is XGBoost?\n",
    "\n",
    "XGBoost is one of the most popular machine learning algorithm these days. Regardless of the type of prediction task at hand; regression or classification. XGBoost is well known to provide better solutions than other machine learning algorithms. In fact, since its inception, it has become the \"state-of-the-art” machine learning algorithm to deal with structured data.\n",
    "\n",
    "XGBoost belongs to a family of boosting algorithms and uses the gradient boosting (GBM) framework at its core. It is an optimized distributed gradient boosting library.\n",
    "\n",
    "### Boosting\n",
    "Boosting is a sequential technique which works on the principle of an ensemble. It combines a set of weak learners and delivers improved prediction accuracy. At any instant t, the model outcomes are weighed based on the outcomes of previous instant t-1. The outcomes predicted correctly are given a lower weight and the ones miss-classified are weighted higher. A weak learner is one which is slightly better than random guessing. \n",
    "\n",
    "\n",
    "### Advantages of XGBoost:\n",
    "\n",
    "1. It is comparatively faster than other ensemble classifiers\n",
    "2. The code XGBoost algorithm is parallelizable and hence can harness the power of multi-core GPUs.\n",
    "3. It has a wide range of tuning parameters (cross-validation, regularization, user-defined objective functions, missing values, tree parameters, scikit-learn compatible API).\n"
   ]
  },
  {
   "cell_type": "code",
   "execution_count": 13,
   "id": "4e6e1601",
   "metadata": {},
   "outputs": [],
   "source": [
    "xgb_clf = XGBClassifier(tree_method = \"exact\", predictor = \"cpu_predictor\",\n",
    "                            objective = \"multi:softmax\")"
   ]
  },
  {
   "cell_type": "code",
   "execution_count": 14,
   "id": "ae4fdc8f",
   "metadata": {},
   "outputs": [],
   "source": [
    "parameters = {\"learning_rate\": [0.1, 0.01, 0.001],\n",
    "               \"gamma\" : [0.01, 0.1, 0.3, 0.5, 1, 1.5, 2],\n",
    "               \"max_depth\": [2, 4, 7, 10],\n",
    "               \"colsample_bytree\": [0.3, 0.6, 0.8, 1.0],\n",
    "               \"subsample\": [0.2, 0.4, 0.5, 0.6, 0.7],\n",
    "               \"reg_alpha\": [0, 0.5, 1],\n",
    "               \"reg_lambda\": [1, 1.5, 2, 3, 4.5],\n",
    "               \"min_child_weight\": [1, 3, 5, 7],\n",
    "               \"n_estimators\": [100, 250, 500, 1000]}\n",
    "# subsample: Denotes the subsample ratio of columns for each split, in each level.\n",
    "# colsample_bytree: Denotes the fraction of columns to be randomly samples for each tree.\n",
    "# gamma: Gamma specifies the minimum loss reduction required to make a split.\n",
    "# reg_alpha: Lasso L1 regularization\n",
    "# reg_lambda: Ridge L2 reguralarization"
   ]
  },
  {
   "cell_type": "code",
   "execution_count": 15,
   "id": "cd17da4d",
   "metadata": {},
   "outputs": [],
   "source": [
    "# Create RandomizedSearchCV Object\n",
    "xgb_rscv = RandomizedSearchCV(xgb_clf, param_distributions = parameters, scoring = \"f1_micro\",\n",
    "                             cv = 10, verbose = 3, random_state = 40 )\n"
   ]
  },
  {
   "cell_type": "code",
   "execution_count": 16,
   "id": "97c24c9e",
   "metadata": {},
   "outputs": [
    {
     "name": "stdout",
     "output_type": "stream",
     "text": [
      "Fitting 10 folds for each of 10 candidates, totalling 100 fits\n",
      "[08:41:59] WARNING: ../src/learner.cc:1115: Starting in XGBoost 1.3.0, the default evaluation metric used with the objective 'multi:softprob' was changed from 'merror' to 'mlogloss'. Explicitly set eval_metric if you'd like to restore the old behavior.\n",
      "[CV 1/10] END colsample_bytree=1.0, gamma=1.5, learning_rate=0.1, max_depth=2, min_child_weight=5, n_estimators=100, reg_alpha=0, reg_lambda=1, subsample=0.6; total time=   0.2s\n",
      "[08:41:59] WARNING: ../src/learner.cc:1115: Starting in XGBoost 1.3.0, the default evaluation metric used with the objective 'multi:softprob' was changed from 'merror' to 'mlogloss'. Explicitly set eval_metric if you'd like to restore the old behavior.\n",
      "[CV 2/10] END colsample_bytree=1.0, gamma=1.5, learning_rate=0.1, max_depth=2, min_child_weight=5, n_estimators=100, reg_alpha=0, reg_lambda=1, subsample=0.6; total time=   0.1s\n",
      "[08:41:59] WARNING: ../src/learner.cc:1115: Starting in XGBoost 1.3.0, the default evaluation metric used with the objective 'multi:softprob' was changed from 'merror' to 'mlogloss'. Explicitly set eval_metric if you'd like to restore the old behavior.\n",
      "[CV 3/10] END colsample_bytree=1.0, gamma=1.5, learning_rate=0.1, max_depth=2, min_child_weight=5, n_estimators=100, reg_alpha=0, reg_lambda=1, subsample=0.6; total time=   0.2s\n",
      "[08:41:59] WARNING: ../src/learner.cc:1115: Starting in XGBoost 1.3.0, the default evaluation metric used with the objective 'multi:softprob' was changed from 'merror' to 'mlogloss'. Explicitly set eval_metric if you'd like to restore the old behavior.\n",
      "[CV 4/10] END colsample_bytree=1.0, gamma=1.5, learning_rate=0.1, max_depth=2, min_child_weight=5, n_estimators=100, reg_alpha=0, reg_lambda=1, subsample=0.6; total time=   0.2s\n",
      "[08:41:59] WARNING: ../src/learner.cc:1115: Starting in XGBoost 1.3.0, the default evaluation metric used with the objective 'multi:softprob' was changed from 'merror' to 'mlogloss'. Explicitly set eval_metric if you'd like to restore the old behavior.\n",
      "[CV 5/10] END colsample_bytree=1.0, gamma=1.5, learning_rate=0.1, max_depth=2, min_child_weight=5, n_estimators=100, reg_alpha=0, reg_lambda=1, subsample=0.6; total time=   0.2s\n",
      "[08:42:00] WARNING: ../src/learner.cc:1115: Starting in XGBoost 1.3.0, the default evaluation metric used with the objective 'multi:softprob' was changed from 'merror' to 'mlogloss'. Explicitly set eval_metric if you'd like to restore the old behavior.\n",
      "[CV 6/10] END colsample_bytree=1.0, gamma=1.5, learning_rate=0.1, max_depth=2, min_child_weight=5, n_estimators=100, reg_alpha=0, reg_lambda=1, subsample=0.6; total time=   0.2s\n",
      "[08:42:00] WARNING: ../src/learner.cc:1115: Starting in XGBoost 1.3.0, the default evaluation metric used with the objective 'multi:softprob' was changed from 'merror' to 'mlogloss'. Explicitly set eval_metric if you'd like to restore the old behavior.\n",
      "[CV 7/10] END colsample_bytree=1.0, gamma=1.5, learning_rate=0.1, max_depth=2, min_child_weight=5, n_estimators=100, reg_alpha=0, reg_lambda=1, subsample=0.6; total time=   0.4s\n",
      "[08:42:00] WARNING: ../src/learner.cc:1115: Starting in XGBoost 1.3.0, the default evaluation metric used with the objective 'multi:softprob' was changed from 'merror' to 'mlogloss'. Explicitly set eval_metric if you'd like to restore the old behavior.\n",
      "[CV 8/10] END colsample_bytree=1.0, gamma=1.5, learning_rate=0.1, max_depth=2, min_child_weight=5, n_estimators=100, reg_alpha=0, reg_lambda=1, subsample=0.6; total time=   0.2s\n",
      "[08:42:00] WARNING: ../src/learner.cc:1115: Starting in XGBoost 1.3.0, the default evaluation metric used with the objective 'multi:softprob' was changed from 'merror' to 'mlogloss'. Explicitly set eval_metric if you'd like to restore the old behavior.\n",
      "[CV 9/10] END colsample_bytree=1.0, gamma=1.5, learning_rate=0.1, max_depth=2, min_child_weight=5, n_estimators=100, reg_alpha=0, reg_lambda=1, subsample=0.6; total time=   0.2s\n",
      "[08:42:00] WARNING: ../src/learner.cc:1115: Starting in XGBoost 1.3.0, the default evaluation metric used with the objective 'multi:softprob' was changed from 'merror' to 'mlogloss'. Explicitly set eval_metric if you'd like to restore the old behavior.\n",
      "[CV 10/10] END colsample_bytree=1.0, gamma=1.5, learning_rate=0.1, max_depth=2, min_child_weight=5, n_estimators=100, reg_alpha=0, reg_lambda=1, subsample=0.6; total time=   0.2s\n",
      "[08:42:01] WARNING: ../src/learner.cc:1115: Starting in XGBoost 1.3.0, the default evaluation metric used with the objective 'multi:softprob' was changed from 'merror' to 'mlogloss'. Explicitly set eval_metric if you'd like to restore the old behavior.\n",
      "[CV 1/10] END colsample_bytree=0.8, gamma=2, learning_rate=0.01, max_depth=2, min_child_weight=1, n_estimators=100, reg_alpha=1, reg_lambda=4.5, subsample=0.4; total time=   0.2s\n",
      "[08:42:01] WARNING: ../src/learner.cc:1115: Starting in XGBoost 1.3.0, the default evaluation metric used with the objective 'multi:softprob' was changed from 'merror' to 'mlogloss'. Explicitly set eval_metric if you'd like to restore the old behavior.\n",
      "[CV 2/10] END colsample_bytree=0.8, gamma=2, learning_rate=0.01, max_depth=2, min_child_weight=1, n_estimators=100, reg_alpha=1, reg_lambda=4.5, subsample=0.4; total time=   0.1s\n",
      "[08:42:01] WARNING: ../src/learner.cc:1115: Starting in XGBoost 1.3.0, the default evaluation metric used with the objective 'multi:softprob' was changed from 'merror' to 'mlogloss'. Explicitly set eval_metric if you'd like to restore the old behavior.\n",
      "[CV 3/10] END colsample_bytree=0.8, gamma=2, learning_rate=0.01, max_depth=2, min_child_weight=1, n_estimators=100, reg_alpha=1, reg_lambda=4.5, subsample=0.4; total time=   0.2s\n",
      "[08:42:01] WARNING: ../src/learner.cc:1115: Starting in XGBoost 1.3.0, the default evaluation metric used with the objective 'multi:softprob' was changed from 'merror' to 'mlogloss'. Explicitly set eval_metric if you'd like to restore the old behavior.\n",
      "[CV 4/10] END colsample_bytree=0.8, gamma=2, learning_rate=0.01, max_depth=2, min_child_weight=1, n_estimators=100, reg_alpha=1, reg_lambda=4.5, subsample=0.4; total time=   0.1s\n",
      "[08:42:01] WARNING: ../src/learner.cc:1115: Starting in XGBoost 1.3.0, the default evaluation metric used with the objective 'multi:softprob' was changed from 'merror' to 'mlogloss'. Explicitly set eval_metric if you'd like to restore the old behavior.\n",
      "[CV 5/10] END colsample_bytree=0.8, gamma=2, learning_rate=0.01, max_depth=2, min_child_weight=1, n_estimators=100, reg_alpha=1, reg_lambda=4.5, subsample=0.4; total time=   0.2s\n",
      "[08:42:01] WARNING: ../src/learner.cc:1115: Starting in XGBoost 1.3.0, the default evaluation metric used with the objective 'multi:softprob' was changed from 'merror' to 'mlogloss'. Explicitly set eval_metric if you'd like to restore the old behavior.\n",
      "[CV 6/10] END colsample_bytree=0.8, gamma=2, learning_rate=0.01, max_depth=2, min_child_weight=1, n_estimators=100, reg_alpha=1, reg_lambda=4.5, subsample=0.4; total time=   0.1s\n",
      "[08:42:01] WARNING: ../src/learner.cc:1115: Starting in XGBoost 1.3.0, the default evaluation metric used with the objective 'multi:softprob' was changed from 'merror' to 'mlogloss'. Explicitly set eval_metric if you'd like to restore the old behavior.\n",
      "[CV 7/10] END colsample_bytree=0.8, gamma=2, learning_rate=0.01, max_depth=2, min_child_weight=1, n_estimators=100, reg_alpha=1, reg_lambda=4.5, subsample=0.4; total time=   0.2s\n",
      "[08:42:02] WARNING: ../src/learner.cc:1115: Starting in XGBoost 1.3.0, the default evaluation metric used with the objective 'multi:softprob' was changed from 'merror' to 'mlogloss'. Explicitly set eval_metric if you'd like to restore the old behavior.\n",
      "[CV 8/10] END colsample_bytree=0.8, gamma=2, learning_rate=0.01, max_depth=2, min_child_weight=1, n_estimators=100, reg_alpha=1, reg_lambda=4.5, subsample=0.4; total time=   0.1s\n",
      "[08:42:02] WARNING: ../src/learner.cc:1115: Starting in XGBoost 1.3.0, the default evaluation metric used with the objective 'multi:softprob' was changed from 'merror' to 'mlogloss'. Explicitly set eval_metric if you'd like to restore the old behavior.\n",
      "[CV 9/10] END colsample_bytree=0.8, gamma=2, learning_rate=0.01, max_depth=2, min_child_weight=1, n_estimators=100, reg_alpha=1, reg_lambda=4.5, subsample=0.4; total time=   0.3s\n",
      "[08:42:02] WARNING: ../src/learner.cc:1115: Starting in XGBoost 1.3.0, the default evaluation metric used with the objective 'multi:softprob' was changed from 'merror' to 'mlogloss'. Explicitly set eval_metric if you'd like to restore the old behavior.\n",
      "[CV 10/10] END colsample_bytree=0.8, gamma=2, learning_rate=0.01, max_depth=2, min_child_weight=1, n_estimators=100, reg_alpha=1, reg_lambda=4.5, subsample=0.4; total time=   0.1s\n",
      "[08:42:02] WARNING: ../src/learner.cc:1115: Starting in XGBoost 1.3.0, the default evaluation metric used with the objective 'multi:softprob' was changed from 'merror' to 'mlogloss'. Explicitly set eval_metric if you'd like to restore the old behavior.\n"
     ]
    },
    {
     "name": "stdout",
     "output_type": "stream",
     "text": [
      "[CV 1/10] END colsample_bytree=1.0, gamma=0.5, learning_rate=0.001, max_depth=2, min_child_weight=1, n_estimators=250, reg_alpha=0.5, reg_lambda=4.5, subsample=0.2; total time=   0.3s\n",
      "[08:42:03] WARNING: ../src/learner.cc:1115: Starting in XGBoost 1.3.0, the default evaluation metric used with the objective 'multi:softprob' was changed from 'merror' to 'mlogloss'. Explicitly set eval_metric if you'd like to restore the old behavior.\n",
      "[CV 2/10] END colsample_bytree=1.0, gamma=0.5, learning_rate=0.001, max_depth=2, min_child_weight=1, n_estimators=250, reg_alpha=0.5, reg_lambda=4.5, subsample=0.2; total time=   0.6s\n",
      "[08:42:03] WARNING: ../src/learner.cc:1115: Starting in XGBoost 1.3.0, the default evaluation metric used with the objective 'multi:softprob' was changed from 'merror' to 'mlogloss'. Explicitly set eval_metric if you'd like to restore the old behavior.\n",
      "[CV 3/10] END colsample_bytree=1.0, gamma=0.5, learning_rate=0.001, max_depth=2, min_child_weight=1, n_estimators=250, reg_alpha=0.5, reg_lambda=4.5, subsample=0.2; total time=   0.3s\n",
      "[08:42:03] WARNING: ../src/learner.cc:1115: Starting in XGBoost 1.3.0, the default evaluation metric used with the objective 'multi:softprob' was changed from 'merror' to 'mlogloss'. Explicitly set eval_metric if you'd like to restore the old behavior.\n",
      "[CV 4/10] END colsample_bytree=1.0, gamma=0.5, learning_rate=0.001, max_depth=2, min_child_weight=1, n_estimators=250, reg_alpha=0.5, reg_lambda=4.5, subsample=0.2; total time=   0.3s\n",
      "[08:42:04] WARNING: ../src/learner.cc:1115: Starting in XGBoost 1.3.0, the default evaluation metric used with the objective 'multi:softprob' was changed from 'merror' to 'mlogloss'. Explicitly set eval_metric if you'd like to restore the old behavior.\n",
      "[CV 5/10] END colsample_bytree=1.0, gamma=0.5, learning_rate=0.001, max_depth=2, min_child_weight=1, n_estimators=250, reg_alpha=0.5, reg_lambda=4.5, subsample=0.2; total time=   0.3s\n",
      "[08:42:04] WARNING: ../src/learner.cc:1115: Starting in XGBoost 1.3.0, the default evaluation metric used with the objective 'multi:softprob' was changed from 'merror' to 'mlogloss'. Explicitly set eval_metric if you'd like to restore the old behavior.\n",
      "[CV 6/10] END colsample_bytree=1.0, gamma=0.5, learning_rate=0.001, max_depth=2, min_child_weight=1, n_estimators=250, reg_alpha=0.5, reg_lambda=4.5, subsample=0.2; total time=   0.3s\n",
      "[08:42:04] WARNING: ../src/learner.cc:1115: Starting in XGBoost 1.3.0, the default evaluation metric used with the objective 'multi:softprob' was changed from 'merror' to 'mlogloss'. Explicitly set eval_metric if you'd like to restore the old behavior.\n",
      "[CV 7/10] END colsample_bytree=1.0, gamma=0.5, learning_rate=0.001, max_depth=2, min_child_weight=1, n_estimators=250, reg_alpha=0.5, reg_lambda=4.5, subsample=0.2; total time=   0.3s\n",
      "[08:42:05] WARNING: ../src/learner.cc:1115: Starting in XGBoost 1.3.0, the default evaluation metric used with the objective 'multi:softprob' was changed from 'merror' to 'mlogloss'. Explicitly set eval_metric if you'd like to restore the old behavior.\n",
      "[CV 8/10] END colsample_bytree=1.0, gamma=0.5, learning_rate=0.001, max_depth=2, min_child_weight=1, n_estimators=250, reg_alpha=0.5, reg_lambda=4.5, subsample=0.2; total time=   0.3s\n",
      "[08:42:05] WARNING: ../src/learner.cc:1115: Starting in XGBoost 1.3.0, the default evaluation metric used with the objective 'multi:softprob' was changed from 'merror' to 'mlogloss'. Explicitly set eval_metric if you'd like to restore the old behavior.\n",
      "[CV 9/10] END colsample_bytree=1.0, gamma=0.5, learning_rate=0.001, max_depth=2, min_child_weight=1, n_estimators=250, reg_alpha=0.5, reg_lambda=4.5, subsample=0.2; total time=   0.3s\n",
      "[08:42:05] WARNING: ../src/learner.cc:1115: Starting in XGBoost 1.3.0, the default evaluation metric used with the objective 'multi:softprob' was changed from 'merror' to 'mlogloss'. Explicitly set eval_metric if you'd like to restore the old behavior.\n",
      "[CV 10/10] END colsample_bytree=1.0, gamma=0.5, learning_rate=0.001, max_depth=2, min_child_weight=1, n_estimators=250, reg_alpha=0.5, reg_lambda=4.5, subsample=0.2; total time=   0.3s\n",
      "[08:42:06] WARNING: ../src/learner.cc:1115: Starting in XGBoost 1.3.0, the default evaluation metric used with the objective 'multi:softprob' was changed from 'merror' to 'mlogloss'. Explicitly set eval_metric if you'd like to restore the old behavior.\n",
      "[CV 1/10] END colsample_bytree=1.0, gamma=0.1, learning_rate=0.1, max_depth=4, min_child_weight=7, n_estimators=100, reg_alpha=0, reg_lambda=1, subsample=0.7; total time=   0.2s\n",
      "[08:42:06] WARNING: ../src/learner.cc:1115: Starting in XGBoost 1.3.0, the default evaluation metric used with the objective 'multi:softprob' was changed from 'merror' to 'mlogloss'. Explicitly set eval_metric if you'd like to restore the old behavior.\n",
      "[CV 2/10] END colsample_bytree=1.0, gamma=0.1, learning_rate=0.1, max_depth=4, min_child_weight=7, n_estimators=100, reg_alpha=0, reg_lambda=1, subsample=0.7; total time=   0.2s\n",
      "[08:42:06] WARNING: ../src/learner.cc:1115: Starting in XGBoost 1.3.0, the default evaluation metric used with the objective 'multi:softprob' was changed from 'merror' to 'mlogloss'. Explicitly set eval_metric if you'd like to restore the old behavior.\n",
      "[CV 3/10] END colsample_bytree=1.0, gamma=0.1, learning_rate=0.1, max_depth=4, min_child_weight=7, n_estimators=100, reg_alpha=0, reg_lambda=1, subsample=0.7; total time=   0.2s\n",
      "[08:42:06] WARNING: ../src/learner.cc:1115: Starting in XGBoost 1.3.0, the default evaluation metric used with the objective 'multi:softprob' was changed from 'merror' to 'mlogloss'. Explicitly set eval_metric if you'd like to restore the old behavior.\n",
      "[CV 4/10] END colsample_bytree=1.0, gamma=0.1, learning_rate=0.1, max_depth=4, min_child_weight=7, n_estimators=100, reg_alpha=0, reg_lambda=1, subsample=0.7; total time=   0.2s\n",
      "[08:42:07] WARNING: ../src/learner.cc:1115: Starting in XGBoost 1.3.0, the default evaluation metric used with the objective 'multi:softprob' was changed from 'merror' to 'mlogloss'. Explicitly set eval_metric if you'd like to restore the old behavior.\n",
      "[CV 5/10] END colsample_bytree=1.0, gamma=0.1, learning_rate=0.1, max_depth=4, min_child_weight=7, n_estimators=100, reg_alpha=0, reg_lambda=1, subsample=0.7; total time=   0.2s\n",
      "[08:42:07] WARNING: ../src/learner.cc:1115: Starting in XGBoost 1.3.0, the default evaluation metric used with the objective 'multi:softprob' was changed from 'merror' to 'mlogloss'. Explicitly set eval_metric if you'd like to restore the old behavior.\n",
      "[CV 6/10] END colsample_bytree=1.0, gamma=0.1, learning_rate=0.1, max_depth=4, min_child_weight=7, n_estimators=100, reg_alpha=0, reg_lambda=1, subsample=0.7; total time=   0.2s\n",
      "[08:42:07] WARNING: ../src/learner.cc:1115: Starting in XGBoost 1.3.0, the default evaluation metric used with the objective 'multi:softprob' was changed from 'merror' to 'mlogloss'. Explicitly set eval_metric if you'd like to restore the old behavior.\n",
      "[CV 7/10] END colsample_bytree=1.0, gamma=0.1, learning_rate=0.1, max_depth=4, min_child_weight=7, n_estimators=100, reg_alpha=0, reg_lambda=1, subsample=0.7; total time=   0.2s\n",
      "[08:42:07] WARNING: ../src/learner.cc:1115: Starting in XGBoost 1.3.0, the default evaluation metric used with the objective 'multi:softprob' was changed from 'merror' to 'mlogloss'. Explicitly set eval_metric if you'd like to restore the old behavior.\n",
      "[CV 8/10] END colsample_bytree=1.0, gamma=0.1, learning_rate=0.1, max_depth=4, min_child_weight=7, n_estimators=100, reg_alpha=0, reg_lambda=1, subsample=0.7; total time=   0.2s\n",
      "[08:42:08] WARNING: ../src/learner.cc:1115: Starting in XGBoost 1.3.0, the default evaluation metric used with the objective 'multi:softprob' was changed from 'merror' to 'mlogloss'. Explicitly set eval_metric if you'd like to restore the old behavior.\n",
      "[CV 9/10] END colsample_bytree=1.0, gamma=0.1, learning_rate=0.1, max_depth=4, min_child_weight=7, n_estimators=100, reg_alpha=0, reg_lambda=1, subsample=0.7; total time=   0.2s\n",
      "[08:42:08] WARNING: ../src/learner.cc:1115: Starting in XGBoost 1.3.0, the default evaluation metric used with the objective 'multi:softprob' was changed from 'merror' to 'mlogloss'. Explicitly set eval_metric if you'd like to restore the old behavior.\n"
     ]
    },
    {
     "name": "stdout",
     "output_type": "stream",
     "text": [
      "[CV 10/10] END colsample_bytree=1.0, gamma=0.1, learning_rate=0.1, max_depth=4, min_child_weight=7, n_estimators=100, reg_alpha=0, reg_lambda=1, subsample=0.7; total time=   0.2s\n",
      "[08:42:08] WARNING: ../src/learner.cc:1115: Starting in XGBoost 1.3.0, the default evaluation metric used with the objective 'multi:softprob' was changed from 'merror' to 'mlogloss'. Explicitly set eval_metric if you'd like to restore the old behavior.\n",
      "[CV 1/10] END colsample_bytree=1.0, gamma=0.01, learning_rate=0.001, max_depth=10, min_child_weight=7, n_estimators=500, reg_alpha=1, reg_lambda=4.5, subsample=0.5; total time=   1.2s\n",
      "[08:42:09] WARNING: ../src/learner.cc:1115: Starting in XGBoost 1.3.0, the default evaluation metric used with the objective 'multi:softprob' was changed from 'merror' to 'mlogloss'. Explicitly set eval_metric if you'd like to restore the old behavior.\n",
      "[CV 2/10] END colsample_bytree=1.0, gamma=0.01, learning_rate=0.001, max_depth=10, min_child_weight=7, n_estimators=500, reg_alpha=1, reg_lambda=4.5, subsample=0.5; total time=   1.2s\n",
      "[08:42:11] WARNING: ../src/learner.cc:1115: Starting in XGBoost 1.3.0, the default evaluation metric used with the objective 'multi:softprob' was changed from 'merror' to 'mlogloss'. Explicitly set eval_metric if you'd like to restore the old behavior.\n",
      "[CV 3/10] END colsample_bytree=1.0, gamma=0.01, learning_rate=0.001, max_depth=10, min_child_weight=7, n_estimators=500, reg_alpha=1, reg_lambda=4.5, subsample=0.5; total time=   1.2s\n",
      "[08:42:12] WARNING: ../src/learner.cc:1115: Starting in XGBoost 1.3.0, the default evaluation metric used with the objective 'multi:softprob' was changed from 'merror' to 'mlogloss'. Explicitly set eval_metric if you'd like to restore the old behavior.\n",
      "[CV 4/10] END colsample_bytree=1.0, gamma=0.01, learning_rate=0.001, max_depth=10, min_child_weight=7, n_estimators=500, reg_alpha=1, reg_lambda=4.5, subsample=0.5; total time=   1.2s\n",
      "[08:42:13] WARNING: ../src/learner.cc:1115: Starting in XGBoost 1.3.0, the default evaluation metric used with the objective 'multi:softprob' was changed from 'merror' to 'mlogloss'. Explicitly set eval_metric if you'd like to restore the old behavior.\n",
      "[CV 5/10] END colsample_bytree=1.0, gamma=0.01, learning_rate=0.001, max_depth=10, min_child_weight=7, n_estimators=500, reg_alpha=1, reg_lambda=4.5, subsample=0.5; total time=   1.3s\n",
      "[08:42:14] WARNING: ../src/learner.cc:1115: Starting in XGBoost 1.3.0, the default evaluation metric used with the objective 'multi:softprob' was changed from 'merror' to 'mlogloss'. Explicitly set eval_metric if you'd like to restore the old behavior.\n",
      "[CV 6/10] END colsample_bytree=1.0, gamma=0.01, learning_rate=0.001, max_depth=10, min_child_weight=7, n_estimators=500, reg_alpha=1, reg_lambda=4.5, subsample=0.5; total time=   1.3s\n",
      "[08:42:16] WARNING: ../src/learner.cc:1115: Starting in XGBoost 1.3.0, the default evaluation metric used with the objective 'multi:softprob' was changed from 'merror' to 'mlogloss'. Explicitly set eval_metric if you'd like to restore the old behavior.\n",
      "[CV 7/10] END colsample_bytree=1.0, gamma=0.01, learning_rate=0.001, max_depth=10, min_child_weight=7, n_estimators=500, reg_alpha=1, reg_lambda=4.5, subsample=0.5; total time=   1.2s\n",
      "[08:42:17] WARNING: ../src/learner.cc:1115: Starting in XGBoost 1.3.0, the default evaluation metric used with the objective 'multi:softprob' was changed from 'merror' to 'mlogloss'. Explicitly set eval_metric if you'd like to restore the old behavior.\n",
      "[CV 8/10] END colsample_bytree=1.0, gamma=0.01, learning_rate=0.001, max_depth=10, min_child_weight=7, n_estimators=500, reg_alpha=1, reg_lambda=4.5, subsample=0.5; total time=   1.2s\n",
      "[08:42:18] WARNING: ../src/learner.cc:1115: Starting in XGBoost 1.3.0, the default evaluation metric used with the objective 'multi:softprob' was changed from 'merror' to 'mlogloss'. Explicitly set eval_metric if you'd like to restore the old behavior.\n",
      "[CV 9/10] END colsample_bytree=1.0, gamma=0.01, learning_rate=0.001, max_depth=10, min_child_weight=7, n_estimators=500, reg_alpha=1, reg_lambda=4.5, subsample=0.5; total time=   1.2s\n",
      "[08:42:19] WARNING: ../src/learner.cc:1115: Starting in XGBoost 1.3.0, the default evaluation metric used with the objective 'multi:softprob' was changed from 'merror' to 'mlogloss'. Explicitly set eval_metric if you'd like to restore the old behavior.\n",
      "[CV 10/10] END colsample_bytree=1.0, gamma=0.01, learning_rate=0.001, max_depth=10, min_child_weight=7, n_estimators=500, reg_alpha=1, reg_lambda=4.5, subsample=0.5; total time=   1.3s\n",
      "[08:42:21] WARNING: ../src/learner.cc:1115: Starting in XGBoost 1.3.0, the default evaluation metric used with the objective 'multi:softprob' was changed from 'merror' to 'mlogloss'. Explicitly set eval_metric if you'd like to restore the old behavior.\n",
      "[CV 1/10] END colsample_bytree=0.6, gamma=0.01, learning_rate=0.001, max_depth=10, min_child_weight=3, n_estimators=100, reg_alpha=1, reg_lambda=3, subsample=0.7; total time=   0.3s\n",
      "[08:42:21] WARNING: ../src/learner.cc:1115: Starting in XGBoost 1.3.0, the default evaluation metric used with the objective 'multi:softprob' was changed from 'merror' to 'mlogloss'. Explicitly set eval_metric if you'd like to restore the old behavior.\n",
      "[CV 2/10] END colsample_bytree=0.6, gamma=0.01, learning_rate=0.001, max_depth=10, min_child_weight=3, n_estimators=100, reg_alpha=1, reg_lambda=3, subsample=0.7; total time=   0.3s\n",
      "[08:42:21] WARNING: ../src/learner.cc:1115: Starting in XGBoost 1.3.0, the default evaluation metric used with the objective 'multi:softprob' was changed from 'merror' to 'mlogloss'. Explicitly set eval_metric if you'd like to restore the old behavior.\n",
      "[CV 3/10] END colsample_bytree=0.6, gamma=0.01, learning_rate=0.001, max_depth=10, min_child_weight=3, n_estimators=100, reg_alpha=1, reg_lambda=3, subsample=0.7; total time=   0.4s\n",
      "[08:42:22] WARNING: ../src/learner.cc:1115: Starting in XGBoost 1.3.0, the default evaluation metric used with the objective 'multi:softprob' was changed from 'merror' to 'mlogloss'. Explicitly set eval_metric if you'd like to restore the old behavior.\n",
      "[CV 4/10] END colsample_bytree=0.6, gamma=0.01, learning_rate=0.001, max_depth=10, min_child_weight=3, n_estimators=100, reg_alpha=1, reg_lambda=3, subsample=0.7; total time=   0.6s\n",
      "[08:42:22] WARNING: ../src/learner.cc:1115: Starting in XGBoost 1.3.0, the default evaluation metric used with the objective 'multi:softprob' was changed from 'merror' to 'mlogloss'. Explicitly set eval_metric if you'd like to restore the old behavior.\n",
      "[CV 5/10] END colsample_bytree=0.6, gamma=0.01, learning_rate=0.001, max_depth=10, min_child_weight=3, n_estimators=100, reg_alpha=1, reg_lambda=3, subsample=0.7; total time=   0.3s\n",
      "[08:42:23] WARNING: ../src/learner.cc:1115: Starting in XGBoost 1.3.0, the default evaluation metric used with the objective 'multi:softprob' was changed from 'merror' to 'mlogloss'. Explicitly set eval_metric if you'd like to restore the old behavior.\n",
      "[CV 6/10] END colsample_bytree=0.6, gamma=0.01, learning_rate=0.001, max_depth=10, min_child_weight=3, n_estimators=100, reg_alpha=1, reg_lambda=3, subsample=0.7; total time=   0.3s\n",
      "[08:42:23] WARNING: ../src/learner.cc:1115: Starting in XGBoost 1.3.0, the default evaluation metric used with the objective 'multi:softprob' was changed from 'merror' to 'mlogloss'. Explicitly set eval_metric if you'd like to restore the old behavior.\n",
      "[CV 7/10] END colsample_bytree=0.6, gamma=0.01, learning_rate=0.001, max_depth=10, min_child_weight=3, n_estimators=100, reg_alpha=1, reg_lambda=3, subsample=0.7; total time=   0.4s\n",
      "[08:42:23] WARNING: ../src/learner.cc:1115: Starting in XGBoost 1.3.0, the default evaluation metric used with the objective 'multi:softprob' was changed from 'merror' to 'mlogloss'. Explicitly set eval_metric if you'd like to restore the old behavior.\n",
      "[CV 8/10] END colsample_bytree=0.6, gamma=0.01, learning_rate=0.001, max_depth=10, min_child_weight=3, n_estimators=100, reg_alpha=1, reg_lambda=3, subsample=0.7; total time=   0.4s\n",
      "[08:42:24] WARNING: ../src/learner.cc:1115: Starting in XGBoost 1.3.0, the default evaluation metric used with the objective 'multi:softprob' was changed from 'merror' to 'mlogloss'. Explicitly set eval_metric if you'd like to restore the old behavior.\n"
     ]
    },
    {
     "name": "stdout",
     "output_type": "stream",
     "text": [
      "[CV 9/10] END colsample_bytree=0.6, gamma=0.01, learning_rate=0.001, max_depth=10, min_child_weight=3, n_estimators=100, reg_alpha=1, reg_lambda=3, subsample=0.7; total time=   0.4s\n",
      "[08:42:24] WARNING: ../src/learner.cc:1115: Starting in XGBoost 1.3.0, the default evaluation metric used with the objective 'multi:softprob' was changed from 'merror' to 'mlogloss'. Explicitly set eval_metric if you'd like to restore the old behavior.\n",
      "[CV 10/10] END colsample_bytree=0.6, gamma=0.01, learning_rate=0.001, max_depth=10, min_child_weight=3, n_estimators=100, reg_alpha=1, reg_lambda=3, subsample=0.7; total time=   0.3s\n",
      "[08:42:24] WARNING: ../src/learner.cc:1115: Starting in XGBoost 1.3.0, the default evaluation metric used with the objective 'multi:softprob' was changed from 'merror' to 'mlogloss'. Explicitly set eval_metric if you'd like to restore the old behavior.\n",
      "[CV 1/10] END colsample_bytree=0.6, gamma=0.3, learning_rate=0.001, max_depth=7, min_child_weight=7, n_estimators=250, reg_alpha=0.5, reg_lambda=1, subsample=0.7; total time=   0.7s\n",
      "[08:42:25] WARNING: ../src/learner.cc:1115: Starting in XGBoost 1.3.0, the default evaluation metric used with the objective 'multi:softprob' was changed from 'merror' to 'mlogloss'. Explicitly set eval_metric if you'd like to restore the old behavior.\n",
      "[CV 2/10] END colsample_bytree=0.6, gamma=0.3, learning_rate=0.001, max_depth=7, min_child_weight=7, n_estimators=250, reg_alpha=0.5, reg_lambda=1, subsample=0.7; total time=   0.8s\n",
      "[08:42:26] WARNING: ../src/learner.cc:1115: Starting in XGBoost 1.3.0, the default evaluation metric used with the objective 'multi:softprob' was changed from 'merror' to 'mlogloss'. Explicitly set eval_metric if you'd like to restore the old behavior.\n",
      "[CV 3/10] END colsample_bytree=0.6, gamma=0.3, learning_rate=0.001, max_depth=7, min_child_weight=7, n_estimators=250, reg_alpha=0.5, reg_lambda=1, subsample=0.7; total time=   0.7s\n",
      "[08:42:27] WARNING: ../src/learner.cc:1115: Starting in XGBoost 1.3.0, the default evaluation metric used with the objective 'multi:softprob' was changed from 'merror' to 'mlogloss'. Explicitly set eval_metric if you'd like to restore the old behavior.\n",
      "[CV 4/10] END colsample_bytree=0.6, gamma=0.3, learning_rate=0.001, max_depth=7, min_child_weight=7, n_estimators=250, reg_alpha=0.5, reg_lambda=1, subsample=0.7; total time=   0.9s\n",
      "[08:42:28] WARNING: ../src/learner.cc:1115: Starting in XGBoost 1.3.0, the default evaluation metric used with the objective 'multi:softprob' was changed from 'merror' to 'mlogloss'. Explicitly set eval_metric if you'd like to restore the old behavior.\n",
      "[CV 5/10] END colsample_bytree=0.6, gamma=0.3, learning_rate=0.001, max_depth=7, min_child_weight=7, n_estimators=250, reg_alpha=0.5, reg_lambda=1, subsample=0.7; total time=   0.7s\n",
      "[08:42:28] WARNING: ../src/learner.cc:1115: Starting in XGBoost 1.3.0, the default evaluation metric used with the objective 'multi:softprob' was changed from 'merror' to 'mlogloss'. Explicitly set eval_metric if you'd like to restore the old behavior.\n",
      "[CV 6/10] END colsample_bytree=0.6, gamma=0.3, learning_rate=0.001, max_depth=7, min_child_weight=7, n_estimators=250, reg_alpha=0.5, reg_lambda=1, subsample=0.7; total time=   0.7s\n",
      "[08:42:29] WARNING: ../src/learner.cc:1115: Starting in XGBoost 1.3.0, the default evaluation metric used with the objective 'multi:softprob' was changed from 'merror' to 'mlogloss'. Explicitly set eval_metric if you'd like to restore the old behavior.\n",
      "[CV 7/10] END colsample_bytree=0.6, gamma=0.3, learning_rate=0.001, max_depth=7, min_child_weight=7, n_estimators=250, reg_alpha=0.5, reg_lambda=1, subsample=0.7; total time=   0.7s\n",
      "[08:42:30] WARNING: ../src/learner.cc:1115: Starting in XGBoost 1.3.0, the default evaluation metric used with the objective 'multi:softprob' was changed from 'merror' to 'mlogloss'. Explicitly set eval_metric if you'd like to restore the old behavior.\n",
      "[CV 8/10] END colsample_bytree=0.6, gamma=0.3, learning_rate=0.001, max_depth=7, min_child_weight=7, n_estimators=250, reg_alpha=0.5, reg_lambda=1, subsample=0.7; total time=   0.7s\n",
      "[08:42:30] WARNING: ../src/learner.cc:1115: Starting in XGBoost 1.3.0, the default evaluation metric used with the objective 'multi:softprob' was changed from 'merror' to 'mlogloss'. Explicitly set eval_metric if you'd like to restore the old behavior.\n",
      "[CV 9/10] END colsample_bytree=0.6, gamma=0.3, learning_rate=0.001, max_depth=7, min_child_weight=7, n_estimators=250, reg_alpha=0.5, reg_lambda=1, subsample=0.7; total time=   0.7s\n",
      "[08:42:31] WARNING: ../src/learner.cc:1115: Starting in XGBoost 1.3.0, the default evaluation metric used with the objective 'multi:softprob' was changed from 'merror' to 'mlogloss'. Explicitly set eval_metric if you'd like to restore the old behavior.\n",
      "[CV 10/10] END colsample_bytree=0.6, gamma=0.3, learning_rate=0.001, max_depth=7, min_child_weight=7, n_estimators=250, reg_alpha=0.5, reg_lambda=1, subsample=0.7; total time=   0.8s\n",
      "[08:42:32] WARNING: ../src/learner.cc:1115: Starting in XGBoost 1.3.0, the default evaluation metric used with the objective 'multi:softprob' was changed from 'merror' to 'mlogloss'. Explicitly set eval_metric if you'd like to restore the old behavior.\n",
      "[CV 1/10] END colsample_bytree=0.6, gamma=0.3, learning_rate=0.01, max_depth=7, min_child_weight=1, n_estimators=1000, reg_alpha=0, reg_lambda=1.5, subsample=0.4; total time=   3.2s\n",
      "[08:42:35] WARNING: ../src/learner.cc:1115: Starting in XGBoost 1.3.0, the default evaluation metric used with the objective 'multi:softprob' was changed from 'merror' to 'mlogloss'. Explicitly set eval_metric if you'd like to restore the old behavior.\n",
      "[CV 2/10] END colsample_bytree=0.6, gamma=0.3, learning_rate=0.01, max_depth=7, min_child_weight=1, n_estimators=1000, reg_alpha=0, reg_lambda=1.5, subsample=0.4; total time=   3.5s\n",
      "[08:42:39] WARNING: ../src/learner.cc:1115: Starting in XGBoost 1.3.0, the default evaluation metric used with the objective 'multi:softprob' was changed from 'merror' to 'mlogloss'. Explicitly set eval_metric if you'd like to restore the old behavior.\n",
      "[CV 3/10] END colsample_bytree=0.6, gamma=0.3, learning_rate=0.01, max_depth=7, min_child_weight=1, n_estimators=1000, reg_alpha=0, reg_lambda=1.5, subsample=0.4; total time=   4.4s\n",
      "[08:42:43] WARNING: ../src/learner.cc:1115: Starting in XGBoost 1.3.0, the default evaluation metric used with the objective 'multi:softprob' was changed from 'merror' to 'mlogloss'. Explicitly set eval_metric if you'd like to restore the old behavior.\n",
      "[CV 4/10] END colsample_bytree=0.6, gamma=0.3, learning_rate=0.01, max_depth=7, min_child_weight=1, n_estimators=1000, reg_alpha=0, reg_lambda=1.5, subsample=0.4; total time=   3.2s\n",
      "[08:42:46] WARNING: ../src/learner.cc:1115: Starting in XGBoost 1.3.0, the default evaluation metric used with the objective 'multi:softprob' was changed from 'merror' to 'mlogloss'. Explicitly set eval_metric if you'd like to restore the old behavior.\n",
      "[CV 5/10] END colsample_bytree=0.6, gamma=0.3, learning_rate=0.01, max_depth=7, min_child_weight=1, n_estimators=1000, reg_alpha=0, reg_lambda=1.5, subsample=0.4; total time=   3.5s\n",
      "[08:42:50] WARNING: ../src/learner.cc:1115: Starting in XGBoost 1.3.0, the default evaluation metric used with the objective 'multi:softprob' was changed from 'merror' to 'mlogloss'. Explicitly set eval_metric if you'd like to restore the old behavior.\n",
      "[CV 6/10] END colsample_bytree=0.6, gamma=0.3, learning_rate=0.01, max_depth=7, min_child_weight=1, n_estimators=1000, reg_alpha=0, reg_lambda=1.5, subsample=0.4; total time=   3.1s\n",
      "[08:42:53] WARNING: ../src/learner.cc:1115: Starting in XGBoost 1.3.0, the default evaluation metric used with the objective 'multi:softprob' was changed from 'merror' to 'mlogloss'. Explicitly set eval_metric if you'd like to restore the old behavior.\n",
      "[CV 7/10] END colsample_bytree=0.6, gamma=0.3, learning_rate=0.01, max_depth=7, min_child_weight=1, n_estimators=1000, reg_alpha=0, reg_lambda=1.5, subsample=0.4; total time=   2.9s\n",
      "[08:42:56] WARNING: ../src/learner.cc:1115: Starting in XGBoost 1.3.0, the default evaluation metric used with the objective 'multi:softprob' was changed from 'merror' to 'mlogloss'. Explicitly set eval_metric if you'd like to restore the old behavior.\n"
     ]
    },
    {
     "name": "stdout",
     "output_type": "stream",
     "text": [
      "[CV 8/10] END colsample_bytree=0.6, gamma=0.3, learning_rate=0.01, max_depth=7, min_child_weight=1, n_estimators=1000, reg_alpha=0, reg_lambda=1.5, subsample=0.4; total time=   2.8s\n",
      "[08:42:58] WARNING: ../src/learner.cc:1115: Starting in XGBoost 1.3.0, the default evaluation metric used with the objective 'multi:softprob' was changed from 'merror' to 'mlogloss'. Explicitly set eval_metric if you'd like to restore the old behavior.\n",
      "[CV 9/10] END colsample_bytree=0.6, gamma=0.3, learning_rate=0.01, max_depth=7, min_child_weight=1, n_estimators=1000, reg_alpha=0, reg_lambda=1.5, subsample=0.4; total time=   2.9s\n",
      "[08:43:01] WARNING: ../src/learner.cc:1115: Starting in XGBoost 1.3.0, the default evaluation metric used with the objective 'multi:softprob' was changed from 'merror' to 'mlogloss'. Explicitly set eval_metric if you'd like to restore the old behavior.\n",
      "[CV 10/10] END colsample_bytree=0.6, gamma=0.3, learning_rate=0.01, max_depth=7, min_child_weight=1, n_estimators=1000, reg_alpha=0, reg_lambda=1.5, subsample=0.4; total time=   2.9s\n",
      "[08:43:04] WARNING: ../src/learner.cc:1115: Starting in XGBoost 1.3.0, the default evaluation metric used with the objective 'multi:softprob' was changed from 'merror' to 'mlogloss'. Explicitly set eval_metric if you'd like to restore the old behavior.\n",
      "[CV 1/10] END colsample_bytree=1.0, gamma=0.3, learning_rate=0.01, max_depth=10, min_child_weight=7, n_estimators=250, reg_alpha=0, reg_lambda=3, subsample=0.7; total time=   1.2s\n",
      "[08:43:05] WARNING: ../src/learner.cc:1115: Starting in XGBoost 1.3.0, the default evaluation metric used with the objective 'multi:softprob' was changed from 'merror' to 'mlogloss'. Explicitly set eval_metric if you'd like to restore the old behavior.\n",
      "[CV 2/10] END colsample_bytree=1.0, gamma=0.3, learning_rate=0.01, max_depth=10, min_child_weight=7, n_estimators=250, reg_alpha=0, reg_lambda=3, subsample=0.7; total time=   1.1s\n",
      "[08:43:06] WARNING: ../src/learner.cc:1115: Starting in XGBoost 1.3.0, the default evaluation metric used with the objective 'multi:softprob' was changed from 'merror' to 'mlogloss'. Explicitly set eval_metric if you'd like to restore the old behavior.\n",
      "[CV 3/10] END colsample_bytree=1.0, gamma=0.3, learning_rate=0.01, max_depth=10, min_child_weight=7, n_estimators=250, reg_alpha=0, reg_lambda=3, subsample=0.7; total time=   1.2s\n",
      "[08:43:08] WARNING: ../src/learner.cc:1115: Starting in XGBoost 1.3.0, the default evaluation metric used with the objective 'multi:softprob' was changed from 'merror' to 'mlogloss'. Explicitly set eval_metric if you'd like to restore the old behavior.\n",
      "[CV 4/10] END colsample_bytree=1.0, gamma=0.3, learning_rate=0.01, max_depth=10, min_child_weight=7, n_estimators=250, reg_alpha=0, reg_lambda=3, subsample=0.7; total time=   0.9s\n",
      "[08:43:09] WARNING: ../src/learner.cc:1115: Starting in XGBoost 1.3.0, the default evaluation metric used with the objective 'multi:softprob' was changed from 'merror' to 'mlogloss'. Explicitly set eval_metric if you'd like to restore the old behavior.\n",
      "[CV 5/10] END colsample_bytree=1.0, gamma=0.3, learning_rate=0.01, max_depth=10, min_child_weight=7, n_estimators=250, reg_alpha=0, reg_lambda=3, subsample=0.7; total time=   0.9s\n",
      "[08:43:09] WARNING: ../src/learner.cc:1115: Starting in XGBoost 1.3.0, the default evaluation metric used with the objective 'multi:softprob' was changed from 'merror' to 'mlogloss'. Explicitly set eval_metric if you'd like to restore the old behavior.\n",
      "[CV 6/10] END colsample_bytree=1.0, gamma=0.3, learning_rate=0.01, max_depth=10, min_child_weight=7, n_estimators=250, reg_alpha=0, reg_lambda=3, subsample=0.7; total time=   1.0s\n",
      "[08:43:10] WARNING: ../src/learner.cc:1115: Starting in XGBoost 1.3.0, the default evaluation metric used with the objective 'multi:softprob' was changed from 'merror' to 'mlogloss'. Explicitly set eval_metric if you'd like to restore the old behavior.\n",
      "[CV 7/10] END colsample_bytree=1.0, gamma=0.3, learning_rate=0.01, max_depth=10, min_child_weight=7, n_estimators=250, reg_alpha=0, reg_lambda=3, subsample=0.7; total time=   1.2s\n",
      "[08:43:12] WARNING: ../src/learner.cc:1115: Starting in XGBoost 1.3.0, the default evaluation metric used with the objective 'multi:softprob' was changed from 'merror' to 'mlogloss'. Explicitly set eval_metric if you'd like to restore the old behavior.\n",
      "[CV 8/10] END colsample_bytree=1.0, gamma=0.3, learning_rate=0.01, max_depth=10, min_child_weight=7, n_estimators=250, reg_alpha=0, reg_lambda=3, subsample=0.7; total time=   1.8s\n",
      "[08:43:13] WARNING: ../src/learner.cc:1115: Starting in XGBoost 1.3.0, the default evaluation metric used with the objective 'multi:softprob' was changed from 'merror' to 'mlogloss'. Explicitly set eval_metric if you'd like to restore the old behavior.\n",
      "[CV 9/10] END colsample_bytree=1.0, gamma=0.3, learning_rate=0.01, max_depth=10, min_child_weight=7, n_estimators=250, reg_alpha=0, reg_lambda=3, subsample=0.7; total time=   1.0s\n",
      "[08:43:14] WARNING: ../src/learner.cc:1115: Starting in XGBoost 1.3.0, the default evaluation metric used with the objective 'multi:softprob' was changed from 'merror' to 'mlogloss'. Explicitly set eval_metric if you'd like to restore the old behavior.\n",
      "[CV 10/10] END colsample_bytree=1.0, gamma=0.3, learning_rate=0.01, max_depth=10, min_child_weight=7, n_estimators=250, reg_alpha=0, reg_lambda=3, subsample=0.7; total time=   1.1s\n",
      "[08:43:16] WARNING: ../src/learner.cc:1115: Starting in XGBoost 1.3.0, the default evaluation metric used with the objective 'multi:softprob' was changed from 'merror' to 'mlogloss'. Explicitly set eval_metric if you'd like to restore the old behavior.\n",
      "[CV 1/10] END colsample_bytree=0.6, gamma=2, learning_rate=0.001, max_depth=7, min_child_weight=7, n_estimators=250, reg_alpha=0.5, reg_lambda=2, subsample=0.4; total time=   0.5s\n",
      "[08:43:16] WARNING: ../src/learner.cc:1115: Starting in XGBoost 1.3.0, the default evaluation metric used with the objective 'multi:softprob' was changed from 'merror' to 'mlogloss'. Explicitly set eval_metric if you'd like to restore the old behavior.\n",
      "[CV 2/10] END colsample_bytree=0.6, gamma=2, learning_rate=0.001, max_depth=7, min_child_weight=7, n_estimators=250, reg_alpha=0.5, reg_lambda=2, subsample=0.4; total time=   0.7s\n",
      "[08:43:17] WARNING: ../src/learner.cc:1115: Starting in XGBoost 1.3.0, the default evaluation metric used with the objective 'multi:softprob' was changed from 'merror' to 'mlogloss'. Explicitly set eval_metric if you'd like to restore the old behavior.\n",
      "[CV 3/10] END colsample_bytree=0.6, gamma=2, learning_rate=0.001, max_depth=7, min_child_weight=7, n_estimators=250, reg_alpha=0.5, reg_lambda=2, subsample=0.4; total time=   1.2s\n",
      "[08:43:18] WARNING: ../src/learner.cc:1115: Starting in XGBoost 1.3.0, the default evaluation metric used with the objective 'multi:softprob' was changed from 'merror' to 'mlogloss'. Explicitly set eval_metric if you'd like to restore the old behavior.\n",
      "[CV 4/10] END colsample_bytree=0.6, gamma=2, learning_rate=0.001, max_depth=7, min_child_weight=7, n_estimators=250, reg_alpha=0.5, reg_lambda=2, subsample=0.4; total time=   0.6s\n",
      "[08:43:19] WARNING: ../src/learner.cc:1115: Starting in XGBoost 1.3.0, the default evaluation metric used with the objective 'multi:softprob' was changed from 'merror' to 'mlogloss'. Explicitly set eval_metric if you'd like to restore the old behavior.\n",
      "[CV 5/10] END colsample_bytree=0.6, gamma=2, learning_rate=0.001, max_depth=7, min_child_weight=7, n_estimators=250, reg_alpha=0.5, reg_lambda=2, subsample=0.4; total time=   1.2s\n",
      "[08:43:20] WARNING: ../src/learner.cc:1115: Starting in XGBoost 1.3.0, the default evaluation metric used with the objective 'multi:softprob' was changed from 'merror' to 'mlogloss'. Explicitly set eval_metric if you'd like to restore the old behavior.\n",
      "[CV 6/10] END colsample_bytree=0.6, gamma=2, learning_rate=0.001, max_depth=7, min_child_weight=7, n_estimators=250, reg_alpha=0.5, reg_lambda=2, subsample=0.4; total time=   0.5s\n",
      "[08:43:20] WARNING: ../src/learner.cc:1115: Starting in XGBoost 1.3.0, the default evaluation metric used with the objective 'multi:softprob' was changed from 'merror' to 'mlogloss'. Explicitly set eval_metric if you'd like to restore the old behavior.\n"
     ]
    },
    {
     "name": "stdout",
     "output_type": "stream",
     "text": [
      "[CV 7/10] END colsample_bytree=0.6, gamma=2, learning_rate=0.001, max_depth=7, min_child_weight=7, n_estimators=250, reg_alpha=0.5, reg_lambda=2, subsample=0.4; total time=   0.6s\n",
      "[08:43:21] WARNING: ../src/learner.cc:1115: Starting in XGBoost 1.3.0, the default evaluation metric used with the objective 'multi:softprob' was changed from 'merror' to 'mlogloss'. Explicitly set eval_metric if you'd like to restore the old behavior.\n",
      "[CV 8/10] END colsample_bytree=0.6, gamma=2, learning_rate=0.001, max_depth=7, min_child_weight=7, n_estimators=250, reg_alpha=0.5, reg_lambda=2, subsample=0.4; total time=   0.5s\n",
      "[08:43:22] WARNING: ../src/learner.cc:1115: Starting in XGBoost 1.3.0, the default evaluation metric used with the objective 'multi:softprob' was changed from 'merror' to 'mlogloss'. Explicitly set eval_metric if you'd like to restore the old behavior.\n",
      "[CV 9/10] END colsample_bytree=0.6, gamma=2, learning_rate=0.001, max_depth=7, min_child_weight=7, n_estimators=250, reg_alpha=0.5, reg_lambda=2, subsample=0.4; total time=   0.5s\n",
      "[08:43:22] WARNING: ../src/learner.cc:1115: Starting in XGBoost 1.3.0, the default evaluation metric used with the objective 'multi:softprob' was changed from 'merror' to 'mlogloss'. Explicitly set eval_metric if you'd like to restore the old behavior.\n",
      "[CV 10/10] END colsample_bytree=0.6, gamma=2, learning_rate=0.001, max_depth=7, min_child_weight=7, n_estimators=250, reg_alpha=0.5, reg_lambda=2, subsample=0.4; total time=   0.6s\n",
      "[08:43:23] WARNING: ../src/learner.cc:1115: Starting in XGBoost 1.3.0, the default evaluation metric used with the objective 'multi:softprob' was changed from 'merror' to 'mlogloss'. Explicitly set eval_metric if you'd like to restore the old behavior.\n"
     ]
    }
   ],
   "source": [
    "model_xgboost = xgb_rscv.fit(X_train, y_train)"
   ]
  },
  {
   "cell_type": "code",
   "execution_count": 17,
   "id": "60e6cbab",
   "metadata": {},
   "outputs": [
    {
     "name": "stdout",
     "output_type": "stream",
     "text": [
      "[08:43:23] WARNING: ../src/learner.cc:1115: Starting in XGBoost 1.3.0, the default evaluation metric used with the objective 'multi:softprob' was changed from 'merror' to 'mlogloss'. Explicitly set eval_metric if you'd like to restore the old behavior.\n"
     ]
    },
    {
     "data": {
      "text/plain": [
       "XGBClassifier(base_score=0.5, booster='gbtree', colsample_bylevel=1,\n",
       "              colsample_bynode=1, colsample_bytree=1.0,\n",
       "              enable_categorical=False, gamma=1.5, gpu_id=-1,\n",
       "              importance_type=None, interaction_constraints='',\n",
       "              learning_rate=0.1, max_delta_step=0, max_depth=2,\n",
       "              min_child_weight=5, missing=nan, monotone_constraints='()',\n",
       "              n_estimators=100, n_jobs=12, num_parallel_tree=1,\n",
       "              objective='multi:softprob', predictor='auto', random_state=0,\n",
       "              reg_alpha=0, reg_lambda=1, scale_pos_weight=None, subsample=0.6,\n",
       "              tree_method='exact', validate_parameters=1, verbosity=None)"
      ]
     },
     "execution_count": 17,
     "metadata": {},
     "output_type": "execute_result"
    }
   ],
   "source": [
    "xgb_final = XGBClassifier(random_state=0, \n",
    "                          n_estimators=xgb_rscv.best_params_['n_estimators'], \n",
    "                          max_depth=xgb_rscv.best_params_['max_depth'],\n",
    "                          learning_rate=xgb_rscv.best_params_['learning_rate'],\n",
    "                          gamma=xgb_rscv.best_params_['gamma'],\n",
    "                          colsample_bytree=xgb_rscv.best_params_['colsample_bytree'],\n",
    "                          subsample=xgb_rscv.best_params_['subsample'],\n",
    "                          reg_alpha=xgb_rscv.best_params_['reg_alpha'],\n",
    "                          reg_lambda=xgb_rscv.best_params_['reg_lambda'],\n",
    "                          min_child_weight=xgb_rscv.best_params_['min_child_weight'])\n",
    "xgb_final.fit(X_train, y_train)"
   ]
  },
  {
   "cell_type": "code",
   "execution_count": 18,
   "id": "07011f7f",
   "metadata": {},
   "outputs": [],
   "source": [
    "y_pred = xgb_final.predict(X_test)"
   ]
  },
  {
   "cell_type": "code",
   "execution_count": 19,
   "id": "acf44109",
   "metadata": {},
   "outputs": [
    {
     "name": "stdout",
     "output_type": "stream",
     "text": [
      "              precision    recall  f1-score   support\n",
      "\n",
      "         0.0      0.250     1.000     0.400         2\n",
      "         1.0      0.789     0.688     0.735       141\n",
      "         2.0      0.604     0.643     0.623       126\n",
      "         3.0      0.679     0.714     0.696        77\n",
      "\n",
      "    accuracy                          0.679       346\n",
      "   macro avg      0.581     0.761     0.614       346\n",
      "weighted avg      0.694     0.679     0.684       346\n",
      "\n"
     ]
    }
   ],
   "source": [
    "report = classification_report(y_pred,y_test,digits=3)\n",
    "print(report)"
   ]
  },
  {
   "cell_type": "code",
   "execution_count": 20,
   "id": "c5e798a2",
   "metadata": {},
   "outputs": [
    {
     "data": {
      "text/plain": [
       "<AxesSubplot:>"
      ]
     },
     "execution_count": 20,
     "metadata": {},
     "output_type": "execute_result"
    },
    {
     "data": {
      "image/png": "[encoded data removed]",
      "text/plain": [
       "<Figure size 432x288 with 2 Axes>"
      ]
     },
     "metadata": {
      "needs_background": "light"
     },
     "output_type": "display_data"
    }
   ],
   "source": [
    "cm1 = confusion_matrix(y_test, y_pred)\n",
    "sns.heatmap(cm1, annot=True)"
   ]
  },
  {
   "cell_type": "code",
   "execution_count": 21,
   "id": "a0ffb871",
   "metadata": {},
   "outputs": [
    {
     "data": {
      "text/plain": [
       "0.6791907514450867"
      ]
     },
     "execution_count": 21,
     "metadata": {},
     "output_type": "execute_result"
    }
   ],
   "source": [
    "accuracy_score(y_test, y_pred)"
   ]
  },
  {
   "cell_type": "markdown",
   "id": "016bd82f",
   "metadata": {},
   "source": [
    "## Support Vector Classifier\n",
    "\n",
    "### What is a Support Vector Machine (SVM)?\n",
    "A support vector machine (SVM) is a supervised machine learning model that uses classification algorithms for two-group classification problems. After giving an SVM model sets of labeled training data for each category, they’re able to categorize new text.\n",
    "\n",
    "Compared to newer algorithms like neural networks, they have two main advantages: higher speed and better performance with a limited number of samples (in the thousands). This makes the algorithm very suitable for text classification problems, where it’s common to have access to a dataset of at most a couple of thousands of tagged samples.\n",
    "\n",
    "### How do SVMs work?\n",
    "A support vector machine takes data points and outputs the hyperplane (which in two dimensions it’s simply a line) that best separates the tags. This line is the decision boundary: anything that falls to one side of it we will classify as blue, and anything that falls to the other as red.\n",
    "\n",
    "<img src=\"hyperplane.png\" />\n",
    "\n",
    "### Advantages\n",
    "1. SVMs can give results at a higher speed and better accuracy with lesser number of samples.\n",
    "2. The SVM provides a very useful technique within it known as kernel and by the application of associated kernel function we can solve any complex problem.\n",
    "3. SVM generally do not suffer condition of overfitting and performs well when there is a clear indication of separation between classes."
   ]
  },
  {
   "cell_type": "code",
   "execution_count": 6,
   "id": "5c28a794",
   "metadata": {},
   "outputs": [],
   "source": [
    "sc_X = StandardScaler()\n",
    "X_Train = sc_X.fit_transform(X_train)\n",
    "X_Test = sc_X.transform(X_test)"
   ]
  },
  {
   "cell_type": "code",
   "execution_count": 7,
   "id": "3de852fc",
   "metadata": {},
   "outputs": [
    {
     "data": {
      "text/plain": [
       "SVC(random_state=0)"
      ]
     },
     "execution_count": 7,
     "metadata": {},
     "output_type": "execute_result"
    }
   ],
   "source": [
    "classifier = SVC(kernel = 'rbf', random_state = 0)\n",
    "classifier.fit(X_Train, y_train)"
   ]
  },
  {
   "cell_type": "code",
   "execution_count": 8,
   "id": "6d192ebe",
   "metadata": {},
   "outputs": [],
   "source": [
    "Y_Pred = classifier.predict(X_Test)"
   ]
  },
  {
   "cell_type": "code",
   "execution_count": 9,
   "id": "3a51a888",
   "metadata": {},
   "outputs": [
    {
     "data": {
      "text/plain": [
       "<AxesSubplot:>"
      ]
     },
     "execution_count": 9,
     "metadata": {},
     "output_type": "execute_result"
    },
    {
     "data": {
      "image/png": "[encoded data removed]",
      "text/plain": [
       "<Figure size 432x288 with 2 Axes>"
      ]
     },
     "metadata": {
      "needs_background": "light"
     },
     "output_type": "display_data"
    }
   ],
   "source": [
    "cm2 = confusion_matrix(y_test, Y_Pred)\n",
    "sns.heatmap(cm2, annot=True)"
   ]
  },
  {
   "cell_type": "code",
   "execution_count": 10,
   "id": "2da8a219",
   "metadata": {},
   "outputs": [
    {
     "data": {
      "text/plain": [
       "0.6734104046242775"
      ]
     },
     "execution_count": 10,
     "metadata": {},
     "output_type": "execute_result"
    }
   ],
   "source": [
    "accuracy_score(y_test, Y_Pred)"
   ]
  },
  {
   "cell_type": "markdown",
   "id": "ff62dae5",
   "metadata": {},
   "source": [
    "## Extreme Learning Machine (ELM)\n",
    "\n",
    "### What is ELM?\n",
    "Extreme learning machines are feed-forward neural networks for classification, regression, clustering, sparse approximation, compression and feature learning with a single layer or multiple layers of hidden nodes, where the parameters of hidden nodes (not just the weights connecting inputs to hidden nodes) need not be tuned. These hidden nodes can be randomly assigned and never updated (i.e. they are random projection but with nonlinear transforms), or can be inherited from their ancestors without being changed. In most cases, the output weights of hidden nodes are usually learned in a single step, which essentially amounts to learning a linear model. \n"
   ]
  },
  {
   "cell_type": "code",
   "execution_count": 13,
   "id": "59c25630",
   "metadata": {},
   "outputs": [],
   "source": [
    "input_size = X_train.shape[0]\n",
    "hidden_size = 13\n",
    "input_weights = np.random.normal(size=[hidden_size, input_size])\n",
    "biases = np.random.normal(size=[input_size])\n",
    "\n",
    "def relu(x):\n",
    "    return np.maximum(x, 0, x)\n",
    "\n",
    "def lrelu(x):\n",
    "    return np.where(x > 0, x, x * 0.01)\n",
    "\n",
    "def hidden_nodes_relu(X):\n",
    "    G = np.dot(X, input_weights)\n",
    "    G = G + biases\n",
    "    H = relu(G)\n",
    "\n",
    "    return H\n",
    "\n",
    "def hidden_nodes_lrelu(X):\n",
    "    G = np.dot(X, input_weights)\n",
    "    G = G + biases\n",
    "    H = relu(G)\n",
    "\n",
    "    return H\n",
    "\n",
    "output_weights_relu = np.dot(np.linalg.pinv(hidden_nodes_relu(X_train)), pd.DataFrame(y_train))\n",
    "output_weights_lrelu = np.dot(np.linalg.pinv(hidden_nodes_lrelu(X_train)), pd.DataFrame(y_train))\n",
    "\n",
    "def predict_relu(X):\n",
    "    out = hidden_nodes_relu(X)\n",
    "    out = np.dot(out, output_weights_relu)\n",
    "    return out\n",
    "\n",
    "def predict_lrelu(X):\n",
    "    out = hidden_nodes_lrelu(X)\n",
    "    out = np.dot(out, output_weights_lrelu)\n",
    "    return out\n",
    "\n",
    "prediction_relu = predict_relu(X_test)\n",
    "prediction_lrelu = predict_lrelu(X_test)\n"
   ]
  },
  {
   "cell_type": "code",
   "execution_count": 12,
   "id": "0b4c5fd9",
   "metadata": {},
   "outputs": [
    {
     "name": "stdout",
     "output_type": "stream",
     "text": [
      "[array([[ 36.11222522],\n",
      "       [ 29.23991274],\n",
      "       [ 39.18094103],\n",
      "       [ 35.36220648],\n",
      "       [ 41.89856483],\n",
      "       [ 35.3795304 ],\n",
      "       [ 37.39923431],\n",
      "       [ 37.82708773],\n",
      "       [ 34.47155069],\n",
      "       [ 45.12160449],\n",
      "       [ 37.45763847],\n",
      "       [ 37.12241038],\n",
      "       [ 14.07012923],\n",
      "       [ 37.05241815],\n",
      "       [ 39.4098679 ],\n",
      "       [ 37.6005833 ],\n",
      "       [ 39.37502333],\n",
      "       [ 33.85295609],\n",
      "       [ 35.72970189],\n",
      "       [ 31.55526501],\n",
      "       [ 38.88054906],\n",
      "       [ 39.20205361],\n",
      "       [ 29.37614824],\n",
      "       [ 38.75114026],\n",
      "       [ 33.09303374],\n",
      "       [ 41.82425834],\n",
      "       [ 33.666269  ],\n",
      "       [ 39.87312529],\n",
      "       [ 41.58719769],\n",
      "       [ 39.23812188],\n",
      "       [ 41.79806232],\n",
      "       [ 31.43944494],\n",
      "       [ 33.91635254],\n",
      "       [ 35.2143499 ],\n",
      "       [ 34.48351591],\n",
      "       [ 38.59661582],\n",
      "       [ 37.58903885],\n",
      "       [ 34.35130745],\n",
      "       [ 33.60505254],\n",
      "       [ 36.21469342],\n",
      "       [ 35.17539522],\n",
      "       [ 41.72952339],\n",
      "       [ 39.12486374],\n",
      "       [ 35.69096564],\n",
      "       [ 38.17261509],\n",
      "       [ 27.0314391 ],\n",
      "       [ 36.64464895],\n",
      "       [ 37.7017785 ],\n",
      "       [ 47.59855222],\n",
      "       [ 26.84853878],\n",
      "       [ 40.97339205],\n",
      "       [ 40.98712114],\n",
      "       [ 29.97172852],\n",
      "       [ 40.23956625],\n",
      "       [ 35.0399266 ],\n",
      "       [ 35.98687035],\n",
      "       [ 38.86799926],\n",
      "       [ 38.79908257],\n",
      "       [ 30.24962931],\n",
      "       [ 37.68722619],\n",
      "       [  9.9131838 ],\n",
      "       [ 38.00842051],\n",
      "       [ 38.74306363],\n",
      "       [ 38.1289692 ],\n",
      "       [ 39.23242029],\n",
      "       [ 36.68256652],\n",
      "       [ 43.67631838],\n",
      "       [ 37.21850839],\n",
      "       [ 79.55521186],\n",
      "       [ 40.86264368],\n",
      "       [ 38.14549866],\n",
      "       [ 31.07925752],\n",
      "       [ 38.51381593],\n",
      "       [ 29.48539267],\n",
      "       [ 40.33448976],\n",
      "       [ 38.15498169],\n",
      "       [ 41.35401079],\n",
      "       [ 36.77359967],\n",
      "       [ 39.81319058],\n",
      "       [ 31.06098581],\n",
      "       [ 40.73886551],\n",
      "       [ 35.70125035],\n",
      "       [-11.80918104],\n",
      "       [ 41.38006714],\n",
      "       [ 31.05045997],\n",
      "       [ 34.29238453],\n",
      "       [ 37.00767002],\n",
      "       [ 33.98117507],\n",
      "       [ 33.72828007],\n",
      "       [ 37.93792717],\n",
      "       [ 35.83536755],\n",
      "       [ 37.83479378],\n",
      "       [ 36.65686531],\n",
      "       [ 41.01942334],\n",
      "       [ 32.59039149],\n",
      "       [ 40.55963904],\n",
      "       [ 36.05943739],\n",
      "       [ 65.94766333],\n",
      "       [ 38.47695773],\n",
      "       [ 35.10986508],\n",
      "       [ 41.34693078],\n",
      "       [ 36.63390028],\n",
      "       [ 43.47771925],\n",
      "       [ 37.11135792],\n",
      "       [ 38.22171339],\n",
      "       [ 39.73365032],\n",
      "       [ 37.9999975 ],\n",
      "       [ 36.34189771],\n",
      "       [ 34.95052607],\n",
      "       [ 34.01792699],\n",
      "       [ 36.17215263],\n",
      "       [ 33.69632515],\n",
      "       [ 34.60913091],\n",
      "       [ 27.85514417],\n",
      "       [ 39.46306507],\n",
      "       [ 34.48722537],\n",
      "       [ 39.78229131],\n",
      "       [ 30.57397924],\n",
      "       [ 39.57499401],\n",
      "       [ 31.88687468],\n",
      "       [ 36.88015133],\n",
      "       [ 37.54216336],\n",
      "       [ 39.70771651],\n",
      "       [ 36.59195084],\n",
      "       [ 41.17498658],\n",
      "       [ 42.82851918],\n",
      "       [ 36.38585109],\n",
      "       [ 41.54049507],\n",
      "       [ 38.74890214],\n",
      "       [ 36.65520713],\n",
      "       [ 41.50604872],\n",
      "       [ 40.89776308],\n",
      "       [ 31.03129511],\n",
      "       [ 35.40561851],\n",
      "       [ 31.30983355],\n",
      "       [ 36.14832887],\n",
      "       [ 36.07348523],\n",
      "       [ 31.65407007],\n",
      "       [ 36.61677239],\n",
      "       [ 39.77557376],\n",
      "       [ 33.80052407],\n",
      "       [ 42.3911103 ],\n",
      "       [ 36.47410942],\n",
      "       [ 32.82023456],\n",
      "       [ 32.99667389]]), array([[ 36.11222522],\n",
      "       [ 29.23991274],\n",
      "       [ 39.18094103],\n",
      "       [ 35.36220648],\n",
      "       [ 41.89856483],\n",
      "       [ 35.3795304 ],\n",
      "       [ 37.39923431],\n",
      "       [ 37.82708773],\n",
      "       [ 34.47155069],\n",
      "       [ 45.12160449],\n",
      "       [ 37.45763847],\n",
      "       [ 37.12241038],\n",
      "       [ 14.07012923],\n",
      "       [ 37.05241815],\n",
      "       [ 39.4098679 ],\n",
      "       [ 37.6005833 ],\n",
      "       [ 39.37502333],\n",
      "       [ 33.85295609],\n",
      "       [ 35.72970189],\n",
      "       [ 31.55526501],\n",
      "       [ 38.88054906],\n",
      "       [ 39.20205361],\n",
      "       [ 29.37614824],\n",
      "       [ 38.75114026],\n",
      "       [ 33.09303374],\n",
      "       [ 41.82425834],\n",
      "       [ 33.666269  ],\n",
      "       [ 39.87312529],\n",
      "       [ 41.58719769],\n",
      "       [ 39.23812188],\n",
      "       [ 41.79806232],\n",
      "       [ 31.43944494],\n",
      "       [ 33.91635254],\n",
      "       [ 35.2143499 ],\n",
      "       [ 34.48351591],\n",
      "       [ 38.59661582],\n",
      "       [ 37.58903885],\n",
      "       [ 34.35130745],\n",
      "       [ 33.60505254],\n",
      "       [ 36.21469342],\n",
      "       [ 35.17539522],\n",
      "       [ 41.72952339],\n",
      "       [ 39.12486374],\n",
      "       [ 35.69096564],\n",
      "       [ 38.17261509],\n",
      "       [ 27.0314391 ],\n",
      "       [ 36.64464895],\n",
      "       [ 37.7017785 ],\n",
      "       [ 47.59855222],\n",
      "       [ 26.84853878],\n",
      "       [ 40.97339205],\n",
      "       [ 40.98712114],\n",
      "       [ 29.97172852],\n",
      "       [ 40.23956625],\n",
      "       [ 35.0399266 ],\n",
      "       [ 35.98687035],\n",
      "       [ 38.86799926],\n",
      "       [ 38.79908257],\n",
      "       [ 30.24962931],\n",
      "       [ 37.68722619],\n",
      "       [  9.9131838 ],\n",
      "       [ 38.00842051],\n",
      "       [ 38.74306363],\n",
      "       [ 38.1289692 ],\n",
      "       [ 39.23242029],\n",
      "       [ 36.68256652],\n",
      "       [ 43.67631838],\n",
      "       [ 37.21850839],\n",
      "       [ 79.55521186],\n",
      "       [ 40.86264368],\n",
      "       [ 38.14549866],\n",
      "       [ 31.07925752],\n",
      "       [ 38.51381593],\n",
      "       [ 29.48539267],\n",
      "       [ 40.33448976],\n",
      "       [ 38.15498169],\n",
      "       [ 41.35401079],\n",
      "       [ 36.77359967],\n",
      "       [ 39.81319058],\n",
      "       [ 31.06098581],\n",
      "       [ 40.73886551],\n",
      "       [ 35.70125035],\n",
      "       [-11.80918104],\n",
      "       [ 41.38006714],\n",
      "       [ 31.05045997],\n",
      "       [ 34.29238453],\n",
      "       [ 37.00767002],\n",
      "       [ 33.98117507],\n",
      "       [ 33.72828007],\n",
      "       [ 37.93792717],\n",
      "       [ 35.83536755],\n",
      "       [ 37.83479378],\n",
      "       [ 36.65686531],\n",
      "       [ 41.01942334],\n",
      "       [ 32.59039149],\n",
      "       [ 40.55963904],\n",
      "       [ 36.05943739],\n",
      "       [ 65.94766333],\n",
      "       [ 38.47695773],\n",
      "       [ 35.10986508],\n",
      "       [ 41.34693078],\n",
      "       [ 36.63390028],\n",
      "       [ 43.47771925],\n",
      "       [ 37.11135792],\n",
      "       [ 38.22171339],\n",
      "       [ 39.73365032],\n",
      "       [ 37.9999975 ],\n",
      "       [ 36.34189771],\n",
      "       [ 34.95052607],\n",
      "       [ 34.01792699],\n",
      "       [ 36.17215263],\n",
      "       [ 33.69632515],\n",
      "       [ 34.60913091],\n",
      "       [ 27.85514417],\n",
      "       [ 39.46306507],\n",
      "       [ 34.48722537],\n",
      "       [ 39.78229131],\n",
      "       [ 30.57397924],\n",
      "       [ 39.57499401],\n",
      "       [ 31.88687468],\n",
      "       [ 36.88015133],\n",
      "       [ 37.54216336],\n",
      "       [ 39.70771651],\n",
      "       [ 36.59195084],\n",
      "       [ 41.17498658],\n",
      "       [ 42.82851918],\n",
      "       [ 36.38585109],\n",
      "       [ 41.54049507],\n",
      "       [ 38.74890214],\n",
      "       [ 36.65520713],\n",
      "       [ 41.50604872],\n",
      "       [ 40.89776308],\n",
      "       [ 31.03129511],\n",
      "       [ 35.40561851],\n",
      "       [ 31.30983355],\n",
      "       [ 36.14832887],\n",
      "       [ 36.07348523],\n",
      "       [ 31.65407007],\n",
      "       [ 36.61677239],\n",
      "       [ 39.77557376],\n",
      "       [ 33.80052407],\n",
      "       [ 42.3911103 ],\n",
      "       [ 36.47410942],\n",
      "       [ 32.82023456],\n",
      "       [ 32.99667389]])]\n"
     ]
    }
   ],
   "source": [
    "print([prediction_relu, prediction_lrelu])"
   ]
  },
  {
   "cell_type": "code",
   "execution_count": 13,
   "id": "31a72fd4",
   "metadata": {},
   "outputs": [],
   "source": [
    "def plot_accuracy_graph(prediction):\n",
    "    prediction = np.array(list(map(int, np.array(prediction).flatten())))\n",
    "    correct = 0\n",
    "    total = X_test.shape[0]\n",
    "    actual_vals = np.array(list(map(int, np.array(y_test))))\n",
    "\n",
    "    for i in range(total - 1):\n",
    "        predicted = prediction[i]\n",
    "        actual = actual_vals[i]\n",
    "        if predicted == actual:\n",
    "            correct += 1\n",
    "\n",
    "    accuracy = correct/total\n",
    "\n",
    "    print(\"Accuracy for \", hidden_size, \" hidden nodes: \", accuracy)\n",
    "    print(\"Total samples: \", X_test.shape[0], \"\\nCorrect Predictions: \", correct)\n",
    "\n",
    "    ind = np.arange(total)\n",
    "    actual_vs_pred = pd.DataFrame({\n",
    "        'Index': ind,\n",
    "        'Actual': np.array(y_test),\n",
    "        'Predicted': prediction\n",
    "    }, index=ind)\n",
    "\n",
    "    diff = []\n",
    "\n",
    "    # print(prediction)\n",
    "    # print(y_test)\n",
    "    for i in range(prediction.size):\n",
    "        diff.append(abs(prediction[i] - np.array(y_test)[i]))\n",
    "\n",
    "    fig= plt.figure(figsize=(16,4))\n",
    "    plt.plot(ind, diff)\n",
    "\n",
    "    plt.title('Error margins for Extreme Learning Model')\n",
    "    plt.ylabel('Error Margin')\n",
    "    plt.xlabel('Test sample Number')\n",
    "    plt.show()"
   ]
  },
  {
   "cell_type": "markdown",
   "id": "79386972",
   "metadata": {},
   "source": [
    "Dataset Accuracy Values for ELM\n",
    "\n",
    "1. 0.40336134453781514\n",
    "2. 0.42777777777777776\n",
    "3. 0.43641618497109824\n",
    "4. 0.4084507042253521\n",
    "5. 0.3684210526315789\n",
    "6. 0.39166666666666666\n",
    "7. 0.1305732484076433\n",
    "8. 0.1103448275862069"
   ]
  },
  {
   "cell_type": "markdown",
   "id": "53818935",
   "metadata": {},
   "source": [
    "## Linear Regression\n",
    "\n",
    "### What is Linear Regression?\n",
    "Linear regression attempts to model the relationship between two variables by fitting a linear equation to observed data. One variable is considered to be an explanatory variable, and the other is considered to be a dependent variable. For example, a modeler might want to relate the weights of individuals to their heights using a linear regression model.\n",
    "\n",
    "### How does it work?\n",
    "A linear regression line has an equation of the form Y = a + bX, where X is the explanatory variable and Y is the dependent variable. The slope of the line is b, and a is the intercept (the value of y when x = 0). \n",
    "### Advantages\n",
    "1. Linear Regression is a very simple algorithm that can be implemented very easily to give satisfactory results.\n",
    "2. Linear regression fits linearly seperable datasets almost perfectly and is often used to find the nature of the relationship between variables.\n",
    "3. Overfitting can be reduced by regularization. <strong>Overfitting</strong> is a situation that arises when a machine learning model fits a dataset very closely and hence captures the noisy data as well.This negatively impacts the performance of model and reduces its accuracy on the test set. <strong>Regularization</strong> is a technique that can be easily implemented and is capable of effectively reducing the complexity of a function so as to reduce the risk of overfitting."
   ]
  },
  {
   "cell_type": "code",
   "execution_count": 27,
   "id": "d59e4a2b",
   "metadata": {},
   "outputs": [
    {
     "data": {
      "text/plain": [
       "LinearRegression()"
      ]
     },
     "execution_count": 27,
     "metadata": {},
     "output_type": "execute_result"
    }
   ],
   "source": [
    "from sklearn.linear_model import LinearRegression\n",
    "\n",
    "model = LinearRegression()\n",
    "model.fit(X_train, y_train)"
   ]
  },
  {
   "cell_type": "code",
   "execution_count": 28,
   "id": "73fd94bd",
   "metadata": {},
   "outputs": [
    {
     "name": "stdout",
     "output_type": "stream",
     "text": [
      "Coefficient of determination is:  0.5317174721103257\n",
      "Model intercept:  -6.054430506751153\n",
      "Slope:  [ 2.96547935e-03  8.89948015e-03  2.84538504e-01  1.12440048e-02\n",
      "  3.72476033e-01  2.17551740e-01 -1.90805075e-01  4.97894323e-01\n",
      "  1.41310959e-01  5.90243090e+00  5.62982668e+00  4.90937084e+00\n",
      "  4.70038035e+00]\n"
     ]
    }
   ],
   "source": [
    "    r_sq = model.score(X_train, y_train)\n",
    "    print('Coefficient of determination is: ', r_sq)\n",
    "    print('Model intercept: ', model.intercept_)\n",
    "    print(\"Slope: \", model.coef_)"
   ]
  },
  {
   "cell_type": "code",
   "execution_count": 29,
   "id": "394484f4",
   "metadata": {},
   "outputs": [
    {
     "name": "stdout",
     "output_type": "stream",
     "text": [
      "Predicted values:  [1, 2, 1, 2, 1, 3, 1, 1, 1, 1, 1, 1, 2, 1, 1, 1, 1, 1, 0, 1, 1, 1, 2, 1, 1, 1, 2, 1, 1, 1, 2, 1, 1, 2, 0, 2, 0, 1, 1, 1, 1, 1, 0, 1, 2, 1, 1, 2, 1, 1, 3, 1, 2, 1, 2, 2, 2, 1, 2, 1, 2, 1, 1, 2, 1, 0, 2, 1, 2, 0, 1, 2, 2, 0, 2, 2, 1, 1, 2, 1, 2, 1, 2, 0, 2, 2, 2, 1, 1, 2, 1, 1, 1, 2, 1, 2, 1, 2, 2, 2, 1, 1, 2, 2, 1, 2, 1, 1, 1, 2, 1, 1, 0, 0, 1, 1, 1, 2, 1, 2, 1, 1, 3, 1, 1, 1, 1, 1, 1, 1, 1, 1, 2, 2, 1, 2, 1, 2, 1, 0, 1, 1, 1, 2, 1, 3, 2, 3, 3, 1, 0, 1, 1, 2, 1, 2, 1, 2, 1, 1, 1, 0, 1, 1, 2, 2, 1, 1, 0, 1, 1, 2, 1, 1, 1, 1, 2, 1, 2, 3, 1, 1, 3, 1, 1, 2, 2, 1, 1, 1, 1, 1, 1, 1, 1, 1, 2, 1, 2, 2, 1, 1, 1, 2, 2, 2, 1, 2, 1, 1, 0, 1, 1, 1, 2, 1, 1, 2, 3, 0, 1, 1, 1, 2, 2, 1, 1, 2, 2, 1, 2, 1, 1, 1, 1, 2, 2, 1, 1, 2, 1, 1, 1, 2, 1, 1, 0, 3, 1, 1, 0, 0, 1, 1, 2, 1, 1, 1, 1, 2, 1, 2, 2, 2, 1, 1, 0, 1, 2, 1, 1, 1, 2, 1, 2, 2, 1, 1, 1, 1, 2, 2, 1, 1, 1, 1, 1, 1, 1, 1, 1, 2, 2, 2, 1, 1, 2, 2, 2, 2, 1, 2, 1, 1, 1, 2, 2, 2, 1, 1, 1, 1, 2, 2, 2, 0, 1, 2, 2, 2, 1, 1, 1, 2, 2, 1, 1, 1, 2, 1, 1, 2, 2, 1, 1, 2, 1, 2, 1, 2, 1, 1, 1, 1, 2, 2]\n"
     ]
    }
   ],
   "source": [
    "y_pred = list(map(int, model.predict(X_test)))\n",
    "print(\"Predicted values: \", y_pred)"
   ]
  },
  {
   "cell_type": "code",
   "execution_count": 30,
   "id": "3c44b367",
   "metadata": {},
   "outputs": [
    {
     "name": "stdout",
     "output_type": "stream",
     "text": [
      "Mean squared error: 0.3204\n",
      "Variance score: 0.5100\n"
     ]
    }
   ],
   "source": [
    "print(\"Mean squared error: %.4f\" % np.mean((model.predict(X_test) - y_test) ** 2))\n",
    "print('Variance score: %.4f' % model.score(X_test, y_test))"
   ]
  },
  {
   "cell_type": "code",
   "execution_count": 31,
   "id": "024f4b06",
   "metadata": {},
   "outputs": [
    {
     "data": {
      "text/plain": [
       "0.45375722543352603"
      ]
     },
     "execution_count": 31,
     "metadata": {},
     "output_type": "execute_result"
    }
   ],
   "source": [
    "accuracy_score(y_test, y_pred)"
   ]
  }
 ],
 "metadata": {
  "kernelspec": {
   "display_name": "Python 3",
   "language": "python",
   "name": "python3"
  },
  "language_info": {
   "codemirror_mode": {
    "name": "ipython",
    "version": 3
   },
   "file_extension": ".py",
   "mimetype": "text/x-python",
   "name": "python",
   "nbconvert_exporter": "python",
   "pygments_lexer": "ipython3",
   "version": "3.8.8"
  }
 },
 "nbformat": 4,
 "nbformat_minor": 5
}
